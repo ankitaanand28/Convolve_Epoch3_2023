{
 "cells": [
  {
   "cell_type": "markdown",
   "id": "c30bbd41",
   "metadata": {},
   "source": [
    "# <centre>Convolve Epoch 2 PS1 </centre>"
   ]
  },
  {
   "cell_type": "code",
   "execution_count": 241,
   "id": "35159611",
   "metadata": {},
   "outputs": [
    {
     "ename": "FileNotFoundError",
     "evalue": "[Errno 2] No such file or directory: 'C:\\\\Users\\\\NAVIN PATWARI\\\\Desktop\\\\tree.png'",
     "output_type": "error",
     "traceback": [
      "\u001b[1;31m---------------------------------------------------------------------------\u001b[0m",
      "\u001b[1;31mFileNotFoundError\u001b[0m                         Traceback (most recent call last)",
      "\u001b[1;32mC:\\Users\\ANKITA~1\\AppData\\Local\\Temp/ipykernel_15644/957518890.py\u001b[0m in \u001b[0;36m<module>\u001b[1;34m\u001b[0m\n\u001b[0;32m      1\u001b[0m \u001b[1;32mfrom\u001b[0m \u001b[0mIPython\u001b[0m\u001b[1;33m.\u001b[0m\u001b[0mdisplay\u001b[0m \u001b[1;32mimport\u001b[0m \u001b[0mImage\u001b[0m\u001b[1;33m\u001b[0m\u001b[1;33m\u001b[0m\u001b[0m\n\u001b[1;32m----> 2\u001b[1;33m \u001b[0mImage\u001b[0m\u001b[1;33m(\u001b[0m\u001b[0mfilename\u001b[0m\u001b[1;33m=\u001b[0m\u001b[1;34m'C:\\\\Users\\\\NAVIN PATWARI\\\\Desktop\\\\tree.png'\u001b[0m\u001b[1;33m,\u001b[0m\u001b[0mwidth\u001b[0m \u001b[1;33m=\u001b[0m \u001b[1;36m300\u001b[0m\u001b[1;33m,\u001b[0m\u001b[0mheight\u001b[0m \u001b[1;33m=\u001b[0m\u001b[1;36m300\u001b[0m \u001b[1;33m)\u001b[0m\u001b[1;33m\u001b[0m\u001b[1;33m\u001b[0m\u001b[0m\n\u001b[0m",
      "\u001b[1;32m~\\anaconda3\\lib\\site-packages\\IPython\\core\\display.py\u001b[0m in \u001b[0;36m__init__\u001b[1;34m(self, data, url, filename, format, embed, width, height, retina, unconfined, metadata)\u001b[0m\n\u001b[0;32m   1229\u001b[0m         \u001b[0mself\u001b[0m\u001b[1;33m.\u001b[0m\u001b[0mretina\u001b[0m \u001b[1;33m=\u001b[0m \u001b[0mretina\u001b[0m\u001b[1;33m\u001b[0m\u001b[1;33m\u001b[0m\u001b[0m\n\u001b[0;32m   1230\u001b[0m         \u001b[0mself\u001b[0m\u001b[1;33m.\u001b[0m\u001b[0munconfined\u001b[0m \u001b[1;33m=\u001b[0m \u001b[0munconfined\u001b[0m\u001b[1;33m\u001b[0m\u001b[1;33m\u001b[0m\u001b[0m\n\u001b[1;32m-> 1231\u001b[1;33m         super(Image, self).__init__(data=data, url=url, filename=filename, \n\u001b[0m\u001b[0;32m   1232\u001b[0m                 metadata=metadata)\n\u001b[0;32m   1233\u001b[0m \u001b[1;33m\u001b[0m\u001b[0m\n",
      "\u001b[1;32m~\\anaconda3\\lib\\site-packages\\IPython\\core\\display.py\u001b[0m in \u001b[0;36m__init__\u001b[1;34m(self, data, url, filename, metadata)\u001b[0m\n\u001b[0;32m    635\u001b[0m             \u001b[0mself\u001b[0m\u001b[1;33m.\u001b[0m\u001b[0mmetadata\u001b[0m \u001b[1;33m=\u001b[0m \u001b[1;33m{\u001b[0m\u001b[1;33m}\u001b[0m\u001b[1;33m\u001b[0m\u001b[1;33m\u001b[0m\u001b[0m\n\u001b[0;32m    636\u001b[0m \u001b[1;33m\u001b[0m\u001b[0m\n\u001b[1;32m--> 637\u001b[1;33m         \u001b[0mself\u001b[0m\u001b[1;33m.\u001b[0m\u001b[0mreload\u001b[0m\u001b[1;33m(\u001b[0m\u001b[1;33m)\u001b[0m\u001b[1;33m\u001b[0m\u001b[1;33m\u001b[0m\u001b[0m\n\u001b[0m\u001b[0;32m    638\u001b[0m         \u001b[0mself\u001b[0m\u001b[1;33m.\u001b[0m\u001b[0m_check_data\u001b[0m\u001b[1;33m(\u001b[0m\u001b[1;33m)\u001b[0m\u001b[1;33m\u001b[0m\u001b[1;33m\u001b[0m\u001b[0m\n\u001b[0;32m    639\u001b[0m \u001b[1;33m\u001b[0m\u001b[0m\n",
      "\u001b[1;32m~\\anaconda3\\lib\\site-packages\\IPython\\core\\display.py\u001b[0m in \u001b[0;36mreload\u001b[1;34m(self)\u001b[0m\n\u001b[0;32m   1261\u001b[0m         \u001b[1;34m\"\"\"Reload the raw data from file or URL.\"\"\"\u001b[0m\u001b[1;33m\u001b[0m\u001b[1;33m\u001b[0m\u001b[0m\n\u001b[0;32m   1262\u001b[0m         \u001b[1;32mif\u001b[0m \u001b[0mself\u001b[0m\u001b[1;33m.\u001b[0m\u001b[0membed\u001b[0m\u001b[1;33m:\u001b[0m\u001b[1;33m\u001b[0m\u001b[1;33m\u001b[0m\u001b[0m\n\u001b[1;32m-> 1263\u001b[1;33m             \u001b[0msuper\u001b[0m\u001b[1;33m(\u001b[0m\u001b[0mImage\u001b[0m\u001b[1;33m,\u001b[0m\u001b[0mself\u001b[0m\u001b[1;33m)\u001b[0m\u001b[1;33m.\u001b[0m\u001b[0mreload\u001b[0m\u001b[1;33m(\u001b[0m\u001b[1;33m)\u001b[0m\u001b[1;33m\u001b[0m\u001b[1;33m\u001b[0m\u001b[0m\n\u001b[0m\u001b[0;32m   1264\u001b[0m             \u001b[1;32mif\u001b[0m \u001b[0mself\u001b[0m\u001b[1;33m.\u001b[0m\u001b[0mretina\u001b[0m\u001b[1;33m:\u001b[0m\u001b[1;33m\u001b[0m\u001b[1;33m\u001b[0m\u001b[0m\n\u001b[0;32m   1265\u001b[0m                 \u001b[0mself\u001b[0m\u001b[1;33m.\u001b[0m\u001b[0m_retina_shape\u001b[0m\u001b[1;33m(\u001b[0m\u001b[1;33m)\u001b[0m\u001b[1;33m\u001b[0m\u001b[1;33m\u001b[0m\u001b[0m\n",
      "\u001b[1;32m~\\anaconda3\\lib\\site-packages\\IPython\\core\\display.py\u001b[0m in \u001b[0;36mreload\u001b[1;34m(self)\u001b[0m\n\u001b[0;32m    660\u001b[0m         \u001b[1;34m\"\"\"Reload the raw data from file or URL.\"\"\"\u001b[0m\u001b[1;33m\u001b[0m\u001b[1;33m\u001b[0m\u001b[0m\n\u001b[0;32m    661\u001b[0m         \u001b[1;32mif\u001b[0m \u001b[0mself\u001b[0m\u001b[1;33m.\u001b[0m\u001b[0mfilename\u001b[0m \u001b[1;32mis\u001b[0m \u001b[1;32mnot\u001b[0m \u001b[1;32mNone\u001b[0m\u001b[1;33m:\u001b[0m\u001b[1;33m\u001b[0m\u001b[1;33m\u001b[0m\u001b[0m\n\u001b[1;32m--> 662\u001b[1;33m             \u001b[1;32mwith\u001b[0m \u001b[0mopen\u001b[0m\u001b[1;33m(\u001b[0m\u001b[0mself\u001b[0m\u001b[1;33m.\u001b[0m\u001b[0mfilename\u001b[0m\u001b[1;33m,\u001b[0m \u001b[0mself\u001b[0m\u001b[1;33m.\u001b[0m\u001b[0m_read_flags\u001b[0m\u001b[1;33m)\u001b[0m \u001b[1;32mas\u001b[0m \u001b[0mf\u001b[0m\u001b[1;33m:\u001b[0m\u001b[1;33m\u001b[0m\u001b[1;33m\u001b[0m\u001b[0m\n\u001b[0m\u001b[0;32m    663\u001b[0m                 \u001b[0mself\u001b[0m\u001b[1;33m.\u001b[0m\u001b[0mdata\u001b[0m \u001b[1;33m=\u001b[0m \u001b[0mf\u001b[0m\u001b[1;33m.\u001b[0m\u001b[0mread\u001b[0m\u001b[1;33m(\u001b[0m\u001b[1;33m)\u001b[0m\u001b[1;33m\u001b[0m\u001b[1;33m\u001b[0m\u001b[0m\n\u001b[0;32m    664\u001b[0m         \u001b[1;32melif\u001b[0m \u001b[0mself\u001b[0m\u001b[1;33m.\u001b[0m\u001b[0murl\u001b[0m \u001b[1;32mis\u001b[0m \u001b[1;32mnot\u001b[0m \u001b[1;32mNone\u001b[0m\u001b[1;33m:\u001b[0m\u001b[1;33m\u001b[0m\u001b[1;33m\u001b[0m\u001b[0m\n",
      "\u001b[1;31mFileNotFoundError\u001b[0m: [Errno 2] No such file or directory: 'C:\\\\Users\\\\NAVIN PATWARI\\\\Desktop\\\\tree.png'"
     ]
    }
   ],
   "source": [
    "\n",
    "from IPython.display import Image\n",
    "Image(filename='C:\\\\Users\\\\NAVIN PATWARI\\\\Desktop\\\\tree.png',width = 300,height =300 ) "
   ]
  },
  {
   "cell_type": "code",
   "execution_count": null,
   "id": "8c49806e",
   "metadata": {},
   "outputs": [],
   "source": [
    "import pandas as pd\n",
    "from sklearn import model_selection, preprocessing, linear_model, metrics\n",
    "import numpy as np\n",
    "from sklearn.metrics import f1_score\n",
    "from sklearn.experimental import enable_iterative_imputer\n",
    "from sklearn.impute import IterativeImputer"
   ]
  },
  {
   "cell_type": "markdown",
   "id": "8d8ee377",
   "metadata": {},
   "source": [
    "## Loading Data"
   ]
  },
  {
   "cell_type": "code",
   "execution_count": 212,
   "id": "da75c15d",
   "metadata": {},
   "outputs": [],
   "source": [
    "dataset=pd.read_csv(\"PS1.csv\")"
   ]
  },
  {
   "cell_type": "code",
   "execution_count": 315,
   "id": "28a95fa9",
   "metadata": {},
   "outputs": [
    {
     "data": {
      "text/html": [
       "<div>\n",
       "<style scoped>\n",
       "    .dataframe tbody tr th:only-of-type {\n",
       "        vertical-align: middle;\n",
       "    }\n",
       "\n",
       "    .dataframe tbody tr th {\n",
       "        vertical-align: top;\n",
       "    }\n",
       "\n",
       "    .dataframe thead th {\n",
       "        text-align: right;\n",
       "    }\n",
       "</style>\n",
       "<table border=\"1\" class=\"dataframe\">\n",
       "  <thead>\n",
       "    <tr style=\"text-align: right;\">\n",
       "      <th></th>\n",
       "      <th>Unnamed: 0</th>\n",
       "      <th>Business Unit</th>\n",
       "      <th>Product Family</th>\n",
       "      <th>PLID</th>\n",
       "      <th>Fiscal Quarter</th>\n",
       "      <th>Fiscal Month</th>\n",
       "      <th>Booked_Qty</th>\n",
       "      <th>Booking_Date</th>\n",
       "      <th>month</th>\n",
       "      <th>Quarter</th>\n",
       "      <th>QYear</th>\n",
       "      <th>Byear</th>\n",
       "      <th>mean_booked_qty</th>\n",
       "    </tr>\n",
       "  </thead>\n",
       "  <tbody>\n",
       "    <tr>\n",
       "      <th>0</th>\n",
       "      <td>0</td>\n",
       "      <td>CSWBU</td>\n",
       "      <td>CBR8</td>\n",
       "      <td>CBR-D121-DS-MOD</td>\n",
       "      <td>Q1 FY2022</td>\n",
       "      <td>AUG FY2022</td>\n",
       "      <td>204</td>\n",
       "      <td>01-08-2016</td>\n",
       "      <td>AUG</td>\n",
       "      <td>Q1</td>\n",
       "      <td>2022</td>\n",
       "      <td>2016</td>\n",
       "      <td>1959</td>\n",
       "    </tr>\n",
       "    <tr>\n",
       "      <th>1</th>\n",
       "      <td>1</td>\n",
       "      <td>CSWBU</td>\n",
       "      <td>CBR8</td>\n",
       "      <td>CBR-D121-DS-MOD</td>\n",
       "      <td>Q1 FY2022</td>\n",
       "      <td>OCT FY2022</td>\n",
       "      <td>564</td>\n",
       "      <td>01-10-2016</td>\n",
       "      <td>OCT</td>\n",
       "      <td>Q1</td>\n",
       "      <td>2022</td>\n",
       "      <td>2016</td>\n",
       "      <td>1959</td>\n",
       "    </tr>\n",
       "    <tr>\n",
       "      <th>2</th>\n",
       "      <td>2</td>\n",
       "      <td>CSWBU</td>\n",
       "      <td>CBR8</td>\n",
       "      <td>CBR-D121-DS-MOD</td>\n",
       "      <td>Q1 FY2022</td>\n",
       "      <td>SEP FY2022</td>\n",
       "      <td>1476</td>\n",
       "      <td>01-09-2016</td>\n",
       "      <td>SEP</td>\n",
       "      <td>Q1</td>\n",
       "      <td>2022</td>\n",
       "      <td>2016</td>\n",
       "      <td>1959</td>\n",
       "    </tr>\n",
       "    <tr>\n",
       "      <th>3</th>\n",
       "      <td>3</td>\n",
       "      <td>CSWBU</td>\n",
       "      <td>CBR8</td>\n",
       "      <td>CBR-D121-DS-MOD</td>\n",
       "      <td>Q1 FY2002</td>\n",
       "      <td>AUG FY2002</td>\n",
       "      <td>374</td>\n",
       "      <td>01-08-2017</td>\n",
       "      <td>AUG</td>\n",
       "      <td>Q1</td>\n",
       "      <td>2002</td>\n",
       "      <td>2017</td>\n",
       "      <td>2061</td>\n",
       "    </tr>\n",
       "    <tr>\n",
       "      <th>4</th>\n",
       "      <td>4</td>\n",
       "      <td>CSWBU</td>\n",
       "      <td>CBR8</td>\n",
       "      <td>CBR-D121-DS-MOD</td>\n",
       "      <td>Q1 FY2002</td>\n",
       "      <td>OCT FY2002</td>\n",
       "      <td>6094</td>\n",
       "      <td>01-10-2017</td>\n",
       "      <td>OCT</td>\n",
       "      <td>Q1</td>\n",
       "      <td>2002</td>\n",
       "      <td>2017</td>\n",
       "      <td>2061</td>\n",
       "    </tr>\n",
       "  </tbody>\n",
       "</table>\n",
       "</div>"
      ],
      "text/plain": [
       "   Unnamed: 0 Business Unit Product Family             PLID Fiscal Quarter  \\\n",
       "0           0         CSWBU           CBR8  CBR-D121-DS-MOD      Q1 FY2022   \n",
       "1           1         CSWBU           CBR8  CBR-D121-DS-MOD      Q1 FY2022   \n",
       "2           2         CSWBU           CBR8  CBR-D121-DS-MOD      Q1 FY2022   \n",
       "3           3         CSWBU           CBR8  CBR-D121-DS-MOD      Q1 FY2002   \n",
       "4           4         CSWBU           CBR8  CBR-D121-DS-MOD      Q1 FY2002   \n",
       "\n",
       "  Fiscal Month  Booked_Qty Booking_Date month Quarter  QYear  Byear  \\\n",
       "0   AUG FY2022         204   01-08-2016   AUG      Q1   2022   2016   \n",
       "1   OCT FY2022         564   01-10-2016   OCT      Q1   2022   2016   \n",
       "2   SEP FY2022        1476   01-09-2016   SEP      Q1   2022   2016   \n",
       "3   AUG FY2002         374   01-08-2017   AUG      Q1   2002   2017   \n",
       "4   OCT FY2002        6094   01-10-2017   OCT      Q1   2002   2017   \n",
       "\n",
       "   mean_booked_qty  \n",
       "0             1959  \n",
       "1             1959  \n",
       "2             1959  \n",
       "3             2061  \n",
       "4             2061  "
      ]
     },
     "execution_count": 315,
     "metadata": {},
     "output_type": "execute_result"
    }
   ],
   "source": [
    "dataset.head()"
   ]
  },
  {
   "cell_type": "code",
   "execution_count": 317,
   "id": "dea93f45",
   "metadata": {},
   "outputs": [
    {
     "data": {
      "text/plain": [
       "322807"
      ]
     },
     "execution_count": 317,
     "metadata": {},
     "output_type": "execute_result"
    }
   ],
   "source": [
    "max(dataset['Booked_Qty'])"
   ]
  },
  {
   "cell_type": "markdown",
   "id": "cf9f5707",
   "metadata": {},
   "source": [
    "## Feature Engineering"
   ]
  },
  {
   "cell_type": "code",
   "execution_count": 214,
   "id": "3427416b",
   "metadata": {},
   "outputs": [
    {
     "name": "stderr",
     "output_type": "stream",
     "text": [
      "C:\\Users\\ANKITA~1\\AppData\\Local\\Temp/ipykernel_15644/910815301.py:5: SettingWithCopyWarning: \n",
      "A value is trying to be set on a copy of a slice from a DataFrame\n",
      "\n",
      "See the caveats in the documentation: https://pandas.pydata.org/pandas-docs/stable/user_guide/indexing.html#returning-a-view-versus-a-copy\n",
      "  dataset['mean_booked_qty'][(dataset['PLID'] == b[i][0])  & (dataset['Byear'] == b[i][1]) ] = a[i]\n"
     ]
    }
   ],
   "source": [
    "dataset['mean_booked_qty'] = None\n",
    "a = dataset.groupby(['PLID','Byear']).agg({'Booked_Qty' : 'mean'})['Booked_Qty']\n",
    "b = dataset.groupby(['PLID','Byear']).agg({'Booked_Qty' : 'mean'}).index\n",
    "for i in range(0,len(b)):\n",
    "    dataset['mean_booked_qty'][(dataset['PLID'] == b[i][0])  & (dataset['Byear'] == b[i][1]) ] = a[i]\n",
    "dataset['mean_booked_qty'] = dataset['mean_booked_qty'].astype('int64')"
   ]
  },
  {
   "cell_type": "code",
   "execution_count": 215,
   "id": "df9d2622",
   "metadata": {},
   "outputs": [],
   "source": [
    "plid=dataset[\"PLID\"].unique()"
   ]
  },
  {
   "cell_type": "code",
   "execution_count": 216,
   "id": "d3be661a",
   "metadata": {},
   "outputs": [
    {
     "data": {
      "text/plain": [
       "73"
      ]
     },
     "execution_count": 216,
     "metadata": {},
     "output_type": "execute_result"
    }
   ],
   "source": [
    "dataset[\"Product Family\"].nunique()"
   ]
  },
  {
   "cell_type": "code",
   "execution_count": 217,
   "id": "63a9966e",
   "metadata": {},
   "outputs": [
    {
     "data": {
      "text/plain": [
       "18"
      ]
     },
     "execution_count": 217,
     "metadata": {},
     "output_type": "execute_result"
    }
   ],
   "source": [
    "dataset[\"Business Unit\"].nunique()"
   ]
  },
  {
   "cell_type": "code",
   "execution_count": 218,
   "id": "b3c5bca9",
   "metadata": {},
   "outputs": [
    {
     "data": {
      "text/plain": [
       "<bound method NDFrame.describe of        Unnamed: 0 Business Unit Product Family             PLID  \\\n",
       "0               0         CSWBU           CBR8  CBR-D121-DS-MOD   \n",
       "1               1         CSWBU           CBR8  CBR-D121-DS-MOD   \n",
       "2               2         CSWBU           CBR8  CBR-D121-DS-MOD   \n",
       "3               3         CSWBU           CBR8  CBR-D121-DS-MOD   \n",
       "4               4         CSWBU           CBR8  CBR-D121-DS-MOD   \n",
       "...           ...           ...            ...              ...   \n",
       "10991       10991         RTOBU        C980040      C9800-40-K9   \n",
       "10992       10992         RTOBU        C980040      C9800-40-K9   \n",
       "10993       10993         RTOBU        C980040      C9800-40-K9   \n",
       "10994       10994         RTOBU        C980040      C9800-40-K9   \n",
       "10995       10995         RTOBU        C980040      C9800-40-K9   \n",
       "\n",
       "      Fiscal Quarter Fiscal Month  Booked_Qty Booking_Date month Quarter  \\\n",
       "0          Q1 FY2022   AUG FY2022         204   01-08-2016   AUG      Q1   \n",
       "1          Q1 FY2022   OCT FY2022         564   01-10-2016   OCT      Q1   \n",
       "2          Q1 FY2022   SEP FY2022        1476   01-09-2016   SEP      Q1   \n",
       "3          Q1 FY2002   AUG FY2002         374   01-08-2017   AUG      Q1   \n",
       "4          Q1 FY2002   OCT FY2002        6094   01-10-2017   OCT      Q1   \n",
       "...              ...          ...         ...          ...   ...     ...   \n",
       "10991      Q4 FY2011   JUN FY2011         229   01-06-2020   JUN      Q4   \n",
       "10992      Q4 FY2011   MAY FY2011         289   01-05-2020   MAY      Q4   \n",
       "10993      Q4 FY2012   JUL FY2012        1231   01-07-2021   JUL      Q4   \n",
       "10994      Q4 FY2012   JUN FY2012         591   01-06-2021   JUN      Q4   \n",
       "10995      Q4 FY2012   MAY FY2012         601   01-05-2021   MAY      Q4   \n",
       "\n",
       "       QYear  Byear  mean_booked_qty  \n",
       "0       2022   2016             1959  \n",
       "1       2022   2016             1959  \n",
       "2       2022   2016             1959  \n",
       "3       2002   2017             2061  \n",
       "4       2002   2017             2061  \n",
       "...      ...    ...              ...  \n",
       "10991   2011   2020              330  \n",
       "10992   2011   2020              330  \n",
       "10993   2012   2021              576  \n",
       "10994   2012   2021              576  \n",
       "10995   2012   2021              576  \n",
       "\n",
       "[10996 rows x 13 columns]>"
      ]
     },
     "execution_count": 218,
     "metadata": {},
     "output_type": "execute_result"
    }
   ],
   "source": [
    "dataset.describe"
   ]
  },
  {
   "cell_type": "code",
   "execution_count": 219,
   "id": "822bf236",
   "metadata": {},
   "outputs": [],
   "source": [
    "data=dataset.drop([\"Fiscal Quarter\",\"Fiscal Month\",\"Booking_Date\"],axis=\"columns\")"
   ]
  },
  {
   "cell_type": "code",
   "execution_count": 220,
   "id": "94ef3c6a",
   "metadata": {},
   "outputs": [
    {
     "data": {
      "text/plain": [
       "UOPBLRBU    1675\n",
       "SRSBU       1392\n",
       "CSA         1271\n",
       "TOASTBU     1012\n",
       "UCEBU        917\n",
       "QKBU         732\n",
       "CRBU         725\n",
       "BATBU        615\n",
       "OTBU         499\n",
       "ERBU         488\n",
       "CVEBU        426\n",
       "EBBU         343\n",
       "RTOBU        259\n",
       "ECBU         204\n",
       "CSWBU        151\n",
       "IOTBU        149\n",
       "NGFWBU        69\n",
       "CPBU          69\n",
       "Name: Business Unit, dtype: int64"
      ]
     },
     "execution_count": 220,
     "metadata": {},
     "output_type": "execute_result"
    }
   ],
   "source": [
    "data[\"Business Unit\"].value_counts()"
   ]
  },
  {
   "cell_type": "code",
   "execution_count": 221,
   "id": "9f9909a0",
   "metadata": {},
   "outputs": [],
   "source": [
    "cleanup_nums = {\"month\":     {\"JAN\": 1, \"FEB\": 2,\"MAR\": 3,\n",
    "                                      \"APR\":4,\"MAY\":5,\"JUN\":6,\"JUL\":7,\n",
    "                                    \"AUG\":8,\"SEP\":9,\"OCT\":10,\"NOV\":11,\n",
    "                                 \"DEC\":12},\n",
    "                \"Quarter\": {\"Q1\": 1, \"Q2\": 2,\"Q3\":3,\"Q4\":4},\n",
    "               \"Business Unit\": {\"UOPBLRBU\":111,\"SRSBU\":112,\"CSA\":113,\"TOASTBU\":114,\"UCEBU\":115,\"QKBU\":116,\n",
    "                                \"CRBU\":117,\"BATBU\":118,\"OTBU\":119,\"ERBU\":120,\"CVEBU\":121,\"EBBU\":122,\"RTOBU\":123,\"ECBU\":124,\n",
    "                                 \"CSWBU\":125,\"IOTBU\":126,\"NGFWBU\":127,\"CPBU\":128}}"
   ]
  },
  {
   "cell_type": "code",
   "execution_count": 222,
   "id": "88f670d4",
   "metadata": {},
   "outputs": [
    {
     "data": {
      "text/html": [
       "<div>\n",
       "<style scoped>\n",
       "    .dataframe tbody tr th:only-of-type {\n",
       "        vertical-align: middle;\n",
       "    }\n",
       "\n",
       "    .dataframe tbody tr th {\n",
       "        vertical-align: top;\n",
       "    }\n",
       "\n",
       "    .dataframe thead th {\n",
       "        text-align: right;\n",
       "    }\n",
       "</style>\n",
       "<table border=\"1\" class=\"dataframe\">\n",
       "  <thead>\n",
       "    <tr style=\"text-align: right;\">\n",
       "      <th></th>\n",
       "      <th>Unnamed: 0</th>\n",
       "      <th>Business Unit</th>\n",
       "      <th>Product Family</th>\n",
       "      <th>PLID</th>\n",
       "      <th>Booked_Qty</th>\n",
       "      <th>month</th>\n",
       "      <th>Quarter</th>\n",
       "      <th>QYear</th>\n",
       "      <th>Byear</th>\n",
       "      <th>mean_booked_qty</th>\n",
       "    </tr>\n",
       "  </thead>\n",
       "  <tbody>\n",
       "    <tr>\n",
       "      <th>0</th>\n",
       "      <td>0</td>\n",
       "      <td>125</td>\n",
       "      <td>CBR8</td>\n",
       "      <td>CBR-D121-DS-MOD</td>\n",
       "      <td>204</td>\n",
       "      <td>8</td>\n",
       "      <td>1</td>\n",
       "      <td>2022</td>\n",
       "      <td>2016</td>\n",
       "      <td>1959</td>\n",
       "    </tr>\n",
       "    <tr>\n",
       "      <th>1</th>\n",
       "      <td>1</td>\n",
       "      <td>125</td>\n",
       "      <td>CBR8</td>\n",
       "      <td>CBR-D121-DS-MOD</td>\n",
       "      <td>564</td>\n",
       "      <td>10</td>\n",
       "      <td>1</td>\n",
       "      <td>2022</td>\n",
       "      <td>2016</td>\n",
       "      <td>1959</td>\n",
       "    </tr>\n",
       "    <tr>\n",
       "      <th>2</th>\n",
       "      <td>2</td>\n",
       "      <td>125</td>\n",
       "      <td>CBR8</td>\n",
       "      <td>CBR-D121-DS-MOD</td>\n",
       "      <td>1476</td>\n",
       "      <td>9</td>\n",
       "      <td>1</td>\n",
       "      <td>2022</td>\n",
       "      <td>2016</td>\n",
       "      <td>1959</td>\n",
       "    </tr>\n",
       "    <tr>\n",
       "      <th>3</th>\n",
       "      <td>3</td>\n",
       "      <td>125</td>\n",
       "      <td>CBR8</td>\n",
       "      <td>CBR-D121-DS-MOD</td>\n",
       "      <td>374</td>\n",
       "      <td>8</td>\n",
       "      <td>1</td>\n",
       "      <td>2002</td>\n",
       "      <td>2017</td>\n",
       "      <td>2061</td>\n",
       "    </tr>\n",
       "    <tr>\n",
       "      <th>4</th>\n",
       "      <td>4</td>\n",
       "      <td>125</td>\n",
       "      <td>CBR8</td>\n",
       "      <td>CBR-D121-DS-MOD</td>\n",
       "      <td>6094</td>\n",
       "      <td>10</td>\n",
       "      <td>1</td>\n",
       "      <td>2002</td>\n",
       "      <td>2017</td>\n",
       "      <td>2061</td>\n",
       "    </tr>\n",
       "  </tbody>\n",
       "</table>\n",
       "</div>"
      ],
      "text/plain": [
       "   Unnamed: 0  Business Unit Product Family             PLID  Booked_Qty  \\\n",
       "0           0            125           CBR8  CBR-D121-DS-MOD         204   \n",
       "1           1            125           CBR8  CBR-D121-DS-MOD         564   \n",
       "2           2            125           CBR8  CBR-D121-DS-MOD        1476   \n",
       "3           3            125           CBR8  CBR-D121-DS-MOD         374   \n",
       "4           4            125           CBR8  CBR-D121-DS-MOD        6094   \n",
       "\n",
       "   month  Quarter  QYear  Byear  mean_booked_qty  \n",
       "0      8        1   2022   2016             1959  \n",
       "1     10        1   2022   2016             1959  \n",
       "2      9        1   2022   2016             1959  \n",
       "3      8        1   2002   2017             2061  \n",
       "4     10        1   2002   2017             2061  "
      ]
     },
     "execution_count": 222,
     "metadata": {},
     "output_type": "execute_result"
    }
   ],
   "source": [
    "data = data.replace(cleanup_nums)\n",
    "\n",
    "data.head()"
   ]
  },
  {
   "cell_type": "code",
   "execution_count": 223,
   "id": "2bef662e",
   "metadata": {},
   "outputs": [],
   "source": [
    "data.sort_values(by=['Byear','PLID', 'Quarter','month'],inplace=True)"
   ]
  },
  {
   "cell_type": "code",
   "execution_count": 224,
   "id": "71dadd95",
   "metadata": {},
   "outputs": [
    {
     "data": {
      "text/plain": [
       "6218     10\n",
       "6220     16\n",
       "6219    123\n",
       "6249     63\n",
       "6250     34\n",
       "       ... \n",
       "6247     52\n",
       "6246    204\n",
       "6276     76\n",
       "6277    115\n",
       "6275     47\n",
       "Name: Booked_Qty, Length: 114, dtype: int64"
      ]
     },
     "execution_count": 224,
     "metadata": {},
     "output_type": "execute_result"
    }
   ],
   "source": [
    " data[data[\"PLID\"]==\"A9K1000-ESP100\"][\"Booked_Qty\"]"
   ]
  },
  {
   "cell_type": "code",
   "execution_count": 225,
   "id": "13c45aca",
   "metadata": {},
   "outputs": [],
   "source": [
    "Booked_Qty = data['Booked_Qty'].astype ('float')\n",
    "qty_lag = []\n",
    "for i in range (0,len(Booked_Qty)-1):\n",
    "        k =Booked_Qty[i] \n",
    "        qty_lag.append(k)"
   ]
  },
  {
   "cell_type": "code",
   "execution_count": 226,
   "id": "4718d7ac",
   "metadata": {},
   "outputs": [],
   "source": [
    "# qty_lag\n",
    "qty_lag.insert(0,0)\n"
   ]
  },
  {
   "cell_type": "code",
   "execution_count": 227,
   "id": "cdb9cc2d",
   "metadata": {},
   "outputs": [],
   "source": [
    "data[\"qty_lag\"]=None\n",
    "data[\"qty_lag\"]=qty_lag"
   ]
  },
  {
   "cell_type": "code",
   "execution_count": 228,
   "id": "c2103c9e",
   "metadata": {},
   "outputs": [
    {
     "data": {
      "text/html": [
       "<div>\n",
       "<style scoped>\n",
       "    .dataframe tbody tr th:only-of-type {\n",
       "        vertical-align: middle;\n",
       "    }\n",
       "\n",
       "    .dataframe tbody tr th {\n",
       "        vertical-align: top;\n",
       "    }\n",
       "\n",
       "    .dataframe thead th {\n",
       "        text-align: right;\n",
       "    }\n",
       "</style>\n",
       "<table border=\"1\" class=\"dataframe\">\n",
       "  <thead>\n",
       "    <tr style=\"text-align: right;\">\n",
       "      <th></th>\n",
       "      <th>Unnamed: 0</th>\n",
       "      <th>Business Unit</th>\n",
       "      <th>Booked_Qty</th>\n",
       "      <th>month</th>\n",
       "      <th>Quarter</th>\n",
       "      <th>QYear</th>\n",
       "      <th>Byear</th>\n",
       "      <th>mean_booked_qty</th>\n",
       "      <th>qty_lag</th>\n",
       "    </tr>\n",
       "  </thead>\n",
       "  <tbody>\n",
       "    <tr>\n",
       "      <th>Unnamed: 0</th>\n",
       "      <td>1.000000</td>\n",
       "      <td>-0.393810</td>\n",
       "      <td>0.354880</td>\n",
       "      <td>-0.010582</td>\n",
       "      <td>0.008924</td>\n",
       "      <td>-0.050395</td>\n",
       "      <td>-0.162401</td>\n",
       "      <td>0.396439</td>\n",
       "      <td>-0.099925</td>\n",
       "    </tr>\n",
       "    <tr>\n",
       "      <th>Business Unit</th>\n",
       "      <td>-0.393810</td>\n",
       "      <td>1.000000</td>\n",
       "      <td>-0.061875</td>\n",
       "      <td>-0.001289</td>\n",
       "      <td>0.002673</td>\n",
       "      <td>0.001417</td>\n",
       "      <td>0.030037</td>\n",
       "      <td>-0.069174</td>\n",
       "      <td>0.140956</td>\n",
       "    </tr>\n",
       "    <tr>\n",
       "      <th>Booked_Qty</th>\n",
       "      <td>0.354880</td>\n",
       "      <td>-0.061875</td>\n",
       "      <td>1.000000</td>\n",
       "      <td>-0.003177</td>\n",
       "      <td>0.019072</td>\n",
       "      <td>0.011387</td>\n",
       "      <td>-0.089175</td>\n",
       "      <td>0.894477</td>\n",
       "      <td>0.007537</td>\n",
       "    </tr>\n",
       "    <tr>\n",
       "      <th>month</th>\n",
       "      <td>-0.010582</td>\n",
       "      <td>-0.001289</td>\n",
       "      <td>-0.003177</td>\n",
       "      <td>1.000000</td>\n",
       "      <td>-0.441151</td>\n",
       "      <td>0.152788</td>\n",
       "      <td>0.117132</td>\n",
       "      <td>0.011663</td>\n",
       "      <td>0.087639</td>\n",
       "    </tr>\n",
       "    <tr>\n",
       "      <th>Quarter</th>\n",
       "      <td>0.008924</td>\n",
       "      <td>0.002673</td>\n",
       "      <td>0.019072</td>\n",
       "      <td>-0.441151</td>\n",
       "      <td>1.000000</td>\n",
       "      <td>-0.253114</td>\n",
       "      <td>-0.200477</td>\n",
       "      <td>-0.027656</td>\n",
       "      <td>-0.148543</td>\n",
       "    </tr>\n",
       "    <tr>\n",
       "      <th>QYear</th>\n",
       "      <td>-0.050395</td>\n",
       "      <td>0.001417</td>\n",
       "      <td>0.011387</td>\n",
       "      <td>0.152788</td>\n",
       "      <td>-0.253114</td>\n",
       "      <td>1.000000</td>\n",
       "      <td>0.372507</td>\n",
       "      <td>0.012731</td>\n",
       "      <td>0.318401</td>\n",
       "    </tr>\n",
       "    <tr>\n",
       "      <th>Byear</th>\n",
       "      <td>-0.162401</td>\n",
       "      <td>0.030037</td>\n",
       "      <td>-0.089175</td>\n",
       "      <td>0.117132</td>\n",
       "      <td>-0.200477</td>\n",
       "      <td>0.372507</td>\n",
       "      <td>1.000000</td>\n",
       "      <td>-0.099696</td>\n",
       "      <td>0.307849</td>\n",
       "    </tr>\n",
       "    <tr>\n",
       "      <th>mean_booked_qty</th>\n",
       "      <td>0.396439</td>\n",
       "      <td>-0.069174</td>\n",
       "      <td>0.894477</td>\n",
       "      <td>0.011663</td>\n",
       "      <td>-0.027656</td>\n",
       "      <td>0.012731</td>\n",
       "      <td>-0.099696</td>\n",
       "      <td>1.000000</td>\n",
       "      <td>0.010693</td>\n",
       "    </tr>\n",
       "    <tr>\n",
       "      <th>qty_lag</th>\n",
       "      <td>-0.099925</td>\n",
       "      <td>0.140956</td>\n",
       "      <td>0.007537</td>\n",
       "      <td>0.087639</td>\n",
       "      <td>-0.148543</td>\n",
       "      <td>0.318401</td>\n",
       "      <td>0.307849</td>\n",
       "      <td>0.010693</td>\n",
       "      <td>1.000000</td>\n",
       "    </tr>\n",
       "  </tbody>\n",
       "</table>\n",
       "</div>"
      ],
      "text/plain": [
       "                 Unnamed: 0  Business Unit  Booked_Qty     month   Quarter  \\\n",
       "Unnamed: 0         1.000000      -0.393810    0.354880 -0.010582  0.008924   \n",
       "Business Unit     -0.393810       1.000000   -0.061875 -0.001289  0.002673   \n",
       "Booked_Qty         0.354880      -0.061875    1.000000 -0.003177  0.019072   \n",
       "month             -0.010582      -0.001289   -0.003177  1.000000 -0.441151   \n",
       "Quarter            0.008924       0.002673    0.019072 -0.441151  1.000000   \n",
       "QYear             -0.050395       0.001417    0.011387  0.152788 -0.253114   \n",
       "Byear             -0.162401       0.030037   -0.089175  0.117132 -0.200477   \n",
       "mean_booked_qty    0.396439      -0.069174    0.894477  0.011663 -0.027656   \n",
       "qty_lag           -0.099925       0.140956    0.007537  0.087639 -0.148543   \n",
       "\n",
       "                    QYear     Byear  mean_booked_qty   qty_lag  \n",
       "Unnamed: 0      -0.050395 -0.162401         0.396439 -0.099925  \n",
       "Business Unit    0.001417  0.030037        -0.069174  0.140956  \n",
       "Booked_Qty       0.011387 -0.089175         0.894477  0.007537  \n",
       "month            0.152788  0.117132         0.011663  0.087639  \n",
       "Quarter         -0.253114 -0.200477        -0.027656 -0.148543  \n",
       "QYear            1.000000  0.372507         0.012731  0.318401  \n",
       "Byear            0.372507  1.000000        -0.099696  0.307849  \n",
       "mean_booked_qty  0.012731 -0.099696         1.000000  0.010693  \n",
       "qty_lag          0.318401  0.307849         0.010693  1.000000  "
      ]
     },
     "execution_count": 228,
     "metadata": {},
     "output_type": "execute_result"
    }
   ],
   "source": [
    "# print(data.groupby(['Product Family']).\\\n",
    "#       agg({'Target' : 'mean'}))\n",
    "\n",
    "# df['lag(a,1)'] = df['a'].shift(1)\n",
    "num = [col for col in data.columns if data[col].dtypes != 'O']\n",
    "data[num].head()\n",
    "data[num].corr()"
   ]
  },
  {
   "cell_type": "code",
   "execution_count": 229,
   "id": "200ed780",
   "metadata": {},
   "outputs": [],
   "source": [
    "# density_map = data.groupby(['Product Family']).\\\n",
    "#     agg({'Target' : 'mean'}).to_dict()['Target']\n",
    "# new_data = data.copy()\n",
    "# new_data['Product Family'] = new_data['Product Family'].map(density_map)\n",
    "# print(new_data)"
   ]
  },
  {
   "cell_type": "code",
   "execution_count": 230,
   "id": "b0ac85ff",
   "metadata": {},
   "outputs": [],
   "source": [
    "# new_data[\"Product Family Type Count\"].nunique()"
   ]
  },
  {
   "cell_type": "code",
   "execution_count": 231,
   "id": "001e415c",
   "metadata": {},
   "outputs": [],
   "source": [
    "datas=data.drop([\"Booked_Qty\",\"Unnamed: 0\"],axis=\"columns\")\n",
    "Y=data[\"Booked_Qty\"]"
   ]
  },
  {
   "cell_type": "code",
   "execution_count": 232,
   "id": "87b550fd",
   "metadata": {},
   "outputs": [
    {
     "data": {
      "text/html": [
       "<div>\n",
       "<style scoped>\n",
       "    .dataframe tbody tr th:only-of-type {\n",
       "        vertical-align: middle;\n",
       "    }\n",
       "\n",
       "    .dataframe tbody tr th {\n",
       "        vertical-align: top;\n",
       "    }\n",
       "\n",
       "    .dataframe thead th {\n",
       "        text-align: right;\n",
       "    }\n",
       "</style>\n",
       "<table border=\"1\" class=\"dataframe\">\n",
       "  <thead>\n",
       "    <tr style=\"text-align: right;\">\n",
       "      <th></th>\n",
       "      <th>Business Unit</th>\n",
       "      <th>Product Family</th>\n",
       "      <th>PLID</th>\n",
       "      <th>month</th>\n",
       "      <th>Quarter</th>\n",
       "      <th>QYear</th>\n",
       "      <th>Byear</th>\n",
       "      <th>mean_booked_qty</th>\n",
       "      <th>qty_lag</th>\n",
       "    </tr>\n",
       "  </thead>\n",
       "  <tbody>\n",
       "    <tr>\n",
       "      <th>6218</th>\n",
       "      <td>112</td>\n",
       "      <td>A9K1000</td>\n",
       "      <td>A9K1000-ESP100</td>\n",
       "      <td>8</td>\n",
       "      <td>1</td>\n",
       "      <td>2013</td>\n",
       "      <td>2013</td>\n",
       "      <td>62</td>\n",
       "      <td>0.0</td>\n",
       "    </tr>\n",
       "    <tr>\n",
       "      <th>6220</th>\n",
       "      <td>112</td>\n",
       "      <td>A9K1000</td>\n",
       "      <td>A9K1000-ESP100</td>\n",
       "      <td>9</td>\n",
       "      <td>1</td>\n",
       "      <td>2013</td>\n",
       "      <td>2013</td>\n",
       "      <td>62</td>\n",
       "      <td>204.0</td>\n",
       "    </tr>\n",
       "    <tr>\n",
       "      <th>6219</th>\n",
       "      <td>112</td>\n",
       "      <td>A9K1000</td>\n",
       "      <td>A9K1000-ESP100</td>\n",
       "      <td>10</td>\n",
       "      <td>1</td>\n",
       "      <td>2013</td>\n",
       "      <td>2013</td>\n",
       "      <td>62</td>\n",
       "      <td>564.0</td>\n",
       "    </tr>\n",
       "    <tr>\n",
       "      <th>6249</th>\n",
       "      <td>112</td>\n",
       "      <td>A9K1000</td>\n",
       "      <td>A9K1000-ESP100</td>\n",
       "      <td>1</td>\n",
       "      <td>2</td>\n",
       "      <td>2013</td>\n",
       "      <td>2013</td>\n",
       "      <td>62</td>\n",
       "      <td>1476.0</td>\n",
       "    </tr>\n",
       "    <tr>\n",
       "      <th>6250</th>\n",
       "      <td>112</td>\n",
       "      <td>A9K1000</td>\n",
       "      <td>A9K1000-ESP100</td>\n",
       "      <td>11</td>\n",
       "      <td>2</td>\n",
       "      <td>2013</td>\n",
       "      <td>2013</td>\n",
       "      <td>62</td>\n",
       "      <td>374.0</td>\n",
       "    </tr>\n",
       "  </tbody>\n",
       "</table>\n",
       "</div>"
      ],
      "text/plain": [
       "      Business Unit Product Family            PLID  month  Quarter  QYear  \\\n",
       "6218            112        A9K1000  A9K1000-ESP100      8        1   2013   \n",
       "6220            112        A9K1000  A9K1000-ESP100      9        1   2013   \n",
       "6219            112        A9K1000  A9K1000-ESP100     10        1   2013   \n",
       "6249            112        A9K1000  A9K1000-ESP100      1        2   2013   \n",
       "6250            112        A9K1000  A9K1000-ESP100     11        2   2013   \n",
       "\n",
       "      Byear  mean_booked_qty  qty_lag  \n",
       "6218   2013               62      0.0  \n",
       "6220   2013               62    204.0  \n",
       "6219   2013               62    564.0  \n",
       "6249   2013               62   1476.0  \n",
       "6250   2013               62    374.0  "
      ]
     },
     "execution_count": 232,
     "metadata": {},
     "output_type": "execute_result"
    }
   ],
   "source": [
    "datas.head()"
   ]
  },
  {
   "cell_type": "code",
   "execution_count": 233,
   "id": "771de66d",
   "metadata": {},
   "outputs": [],
   "source": [
    "X = pd.get_dummies(datas, drop_first=True)\n",
    "# from sklearn.datasets import make_regression\n",
    "# X, Y = make_regression(random_state=11)"
   ]
  },
  {
   "cell_type": "markdown",
   "id": "d48f4d90",
   "metadata": {},
   "source": [
    "## Splitting Data for Training and Validation"
   ]
  },
  {
   "cell_type": "code",
   "execution_count": 234,
   "id": "2022d960",
   "metadata": {},
   "outputs": [],
   "source": [
    "from sklearn.model_selection import train_test_split\n",
    "X_train, X_test, y_train, y_test = train_test_split(X, Y, test_size = 0.2)"
   ]
  },
  {
   "cell_type": "markdown",
   "id": "38eed60c",
   "metadata": {},
   "source": [
    "## Model Implementation"
   ]
  },
  {
   "cell_type": "code",
   "execution_count": 235,
   "id": "3ee133dc",
   "metadata": {},
   "outputs": [],
   "source": [
    "from sklearn.model_selection import StratifiedKFold\n",
    "folds = StratifiedKFold(n_splits=5)\n",
    "from sklearn.model_selection import cross_val_score"
   ]
  },
  {
   "cell_type": "markdown",
   "id": "63aa3cc7",
   "metadata": {},
   "source": [
    "### Linear Regression"
   ]
  },
  {
   "cell_type": "code",
   "execution_count": 236,
   "id": "361ef786",
   "metadata": {},
   "outputs": [
    {
     "data": {
      "text/plain": [
       "0.8082272185930683"
      ]
     },
     "execution_count": 236,
     "metadata": {},
     "output_type": "execute_result"
    }
   ],
   "source": [
    "from sklearn import linear_model\n",
    "lin=linear_model.LinearRegression()\n",
    "lasso_reg = linear_model.Lasso(alpha=100, max_iter=100, tol=0.1)\n",
    "lasso_reg.fit(X_train, y_train)\n",
    "lasso_reg.score(X_test,y_test)"
   ]
  },
  {
   "cell_type": "markdown",
   "id": "8746a4c6",
   "metadata": {},
   "source": [
    "### Ridge Regression"
   ]
  },
  {
   "cell_type": "code",
   "execution_count": 237,
   "id": "d1f0c7d6",
   "metadata": {},
   "outputs": [
    {
     "data": {
      "text/plain": [
       "0.802063123190295"
      ]
     },
     "execution_count": 237,
     "metadata": {},
     "output_type": "execute_result"
    }
   ],
   "source": [
    "from sklearn.linear_model import Ridge\n",
    "ridge_reg= Ridge(alpha=10, max_iter=100, tol=0.3)\n",
    "ridge_reg.fit(X_train, y_train)\n",
    "ridge_reg.score(X_test,y_test)"
   ]
  },
  {
   "cell_type": "markdown",
   "id": "cc5c0c93",
   "metadata": {},
   "source": [
    "### Gradient Boosting"
   ]
  },
  {
   "cell_type": "code",
   "execution_count": 238,
   "id": "dbba946b",
   "metadata": {},
   "outputs": [
    {
     "data": {
      "text/plain": [
       "0.8480729555658475"
      ]
     },
     "execution_count": 238,
     "metadata": {},
     "output_type": "execute_result"
    }
   ],
   "source": [
    "from sklearn.ensemble import GradientBoostingRegressor\n",
    "cl = GradientBoostingRegressor(n_estimators=500, learning_rate=0.10, max_depth=10,random_state=11)\n",
    "cl.fit(X_train, y_train)\n",
    "cl.score(X_test,y_test)"
   ]
  },
  {
   "cell_type": "markdown",
   "id": "85452811",
   "metadata": {},
   "source": [
    "### LightGBM"
   ]
  },
  {
   "cell_type": "code",
   "execution_count": 239,
   "id": "a781a443",
   "metadata": {},
   "outputs": [
    {
     "name": "stdout",
     "output_type": "stream",
     "text": [
      "Requirement already satisfied: lightgbm in c:\\users\\ankita anand\\anaconda3\\lib\\site-packages (3.3.3)\n",
      "Requirement already satisfied: scipy in c:\\users\\ankita anand\\anaconda3\\lib\\site-packages (from lightgbm) (1.7.1)\n",
      "Requirement already satisfied: scikit-learn!=0.22.0 in c:\\users\\ankita anand\\anaconda3\\lib\\site-packages (from lightgbm) (0.24.2)\n",
      "Requirement already satisfied: wheel in c:\\users\\ankita anand\\anaconda3\\lib\\site-packages (from lightgbm) (0.37.0)\n",
      "Requirement already satisfied: numpy in c:\\users\\ankita anand\\anaconda3\\lib\\site-packages (from lightgbm) (1.20.3)\n",
      "Requirement already satisfied: joblib>=0.11 in c:\\users\\ankita anand\\anaconda3\\lib\\site-packages (from scikit-learn!=0.22.0->lightgbm) (1.1.0)\n",
      "Requirement already satisfied: threadpoolctl>=2.0.0 in c:\\users\\ankita anand\\anaconda3\\lib\\site-packages (from scikit-learn!=0.22.0->lightgbm) (2.2.0)\n"
     ]
    }
   ],
   "source": [
    "!pip install lightgbm\n",
    "from lightgbm import LGBMRegressor\n",
    "\n",
    "lgbm = LGBMRegressor(random_state=5)\n",
    "\n",
    "lgbm.fit(X_train, y_train)\n",
    "lgbm.score(X_test,y_test)\n",
    "\n",
    "y_pred = lgbm.predict(X_test)"
   ]
  },
  {
   "cell_type": "code",
   "execution_count": 240,
   "id": "01019fa7",
   "metadata": {},
   "outputs": [
    {
     "data": {
      "text/plain": [
       "0.8940370078691334"
      ]
     },
     "execution_count": 240,
     "metadata": {},
     "output_type": "execute_result"
    }
   ],
   "source": [
    "lgbm = LGBMRegressor(random_state=5)\n",
    "\n",
    "lgbm.fit(X_train, y_train)\n",
    "lgbm.score(X_test,y_test)\n",
    "\n",
    "# y_pred = lgbm.predict(X_test)"
   ]
  },
  {
   "cell_type": "code",
   "execution_count": 151,
   "id": "5b9fa464",
   "metadata": {},
   "outputs": [
    {
     "name": "stdout",
     "output_type": "stream",
     "text": [
      "RMSE :  6305.473061\n"
     ]
    }
   ],
   "source": [
    "rmse = np.sqrt(MSE(y_test, y_pred))\n",
    "print(\"RMSE : % f\" %(rmse))"
   ]
  },
  {
   "cell_type": "markdown",
   "id": "af5ddea8",
   "metadata": {},
   "source": [
    "### Lasso Regression"
   ]
  },
  {
   "cell_type": "code",
   "execution_count": 152,
   "id": "16e4f28c",
   "metadata": {},
   "outputs": [
    {
     "data": {
      "text/plain": [
       "0.8202441727544199"
      ]
     },
     "execution_count": 152,
     "metadata": {},
     "output_type": "execute_result"
    }
   ],
   "source": [
    "from sklearn import linear_model\n",
    "clf = linear_model.Lasso(alpha=0.1,max_iter=10000)\n",
    "clf.fit(X_train, y_train)\n",
    "clf.score(X_test,y_test)"
   ]
  },
  {
   "cell_type": "markdown",
   "id": "3f3d62fb",
   "metadata": {},
   "source": [
    "### Cross Validation"
   ]
  },
  {
   "cell_type": "code",
   "execution_count": 153,
   "id": "4b6a8133",
   "metadata": {},
   "outputs": [
    {
     "data": {
      "text/plain": [
       "array([0.7992293 , 0.56317093, 0.83743235, 0.8083865 , 0.77486495])"
      ]
     },
     "execution_count": 153,
     "metadata": {},
     "output_type": "execute_result"
    }
   ],
   "source": [
    "cross_val_score(cl,X,Y)"
   ]
  },
  {
   "cell_type": "code",
   "execution_count": 113,
   "id": "b951dd2f",
   "metadata": {},
   "outputs": [],
   "source": [
    "from sklearn.metrics import mean_squared_error as MSE"
   ]
  },
  {
   "cell_type": "code",
   "execution_count": 157,
   "id": "7969dcdf",
   "metadata": {},
   "outputs": [
    {
     "name": "stdout",
     "output_type": "stream",
     "text": [
      "[15:46:25] WARNING: C:/buildkite-agent/builds/buildkite-windows-cpu-autoscaling-group-i-030221e36e1a46bfb-1/xgboost/xgboost-ci-windows/src/objective/regression_obj.cu:213: reg:linear is now deprecated in favor of reg:squarederror.\n",
      "RMSE :  8118.883744\n"
     ]
    }
   ],
   "source": [
    "train_dmatrix = xg.DMatrix(data = X_train, label = y_train)\n",
    "test_dmatrix = xg.DMatrix(data = X_test, label = y_test)\n",
    " \n",
    "# Parameter dictionary specifying base learner\n",
    "param = {\"booster\":\"gblinear\", \"objective\":\"reg:linear\"}\n",
    " \n",
    "xgb_r = xg.train(params = param, dtrain = train_dmatrix, num_boost_round = 20)\n",
    "pred = xgb_r.predict(test_dmatrix)\n",
    " \n",
    "# RMSE Computation\n",
    "rmse = np.sqrt(MSE(y_test, pred))\n",
    "print(\"RMSE : % f\" %(rmse))"
   ]
  },
  {
   "cell_type": "markdown",
   "id": "1c0f1c60",
   "metadata": {},
   "source": [
    "### Enhancing Predictions"
   ]
  },
  {
   "cell_type": "code",
   "execution_count": 166,
   "id": "77960228",
   "metadata": {},
   "outputs": [],
   "source": [
    "pred1 = []\n",
    "for i in pred:\n",
    "    if i<0:\n",
    "        pred1.append(0)\n",
    "    else:\n",
    "        pred1.append(i)\n",
    "pred = pred1"
   ]
  },
  {
   "cell_type": "markdown",
   "id": "9471bb3b",
   "metadata": {},
   "source": [
    "### Extracting Data for Comparision between predicted and actual value"
   ]
  },
  {
   "cell_type": "code",
   "execution_count": 176,
   "id": "f4328be8",
   "metadata": {},
   "outputs": [
    {
     "data": {
      "text/html": [
       "<div>\n",
       "<style scoped>\n",
       "    .dataframe tbody tr th:only-of-type {\n",
       "        vertical-align: middle;\n",
       "    }\n",
       "\n",
       "    .dataframe tbody tr th {\n",
       "        vertical-align: top;\n",
       "    }\n",
       "\n",
       "    .dataframe thead th {\n",
       "        text-align: right;\n",
       "    }\n",
       "</style>\n",
       "<table border=\"1\" class=\"dataframe\">\n",
       "  <thead>\n",
       "    <tr style=\"text-align: right;\">\n",
       "      <th></th>\n",
       "      <th>Business Unit</th>\n",
       "      <th>month</th>\n",
       "      <th>Quarter</th>\n",
       "      <th>QYear</th>\n",
       "      <th>Byear</th>\n",
       "      <th>mean_booked_qty</th>\n",
       "      <th>qty_lag</th>\n",
       "      <th>Product Family_4300ISR</th>\n",
       "      <th>Product Family_8000</th>\n",
       "      <th>Product Family_A9K1000</th>\n",
       "      <th>...</th>\n",
       "      <th>PLID_UCS-S3260-HDW18T</th>\n",
       "      <th>PLID_UCSB-B200-M5</th>\n",
       "      <th>PLID_UCSC-C220-M5SX</th>\n",
       "      <th>PLID_UCSC-C240-M5SX</th>\n",
       "      <th>PLID_UCSC-C240-M6SX</th>\n",
       "      <th>PLID_UCSC-GPU-T4-16</th>\n",
       "      <th>PLID_UCSX-210C-M6</th>\n",
       "      <th>PLID_VEDGE-2000-AC-K9</th>\n",
       "      <th>PLID_WS-C3560CX-12PC-S</th>\n",
       "      <th>PLID_WS-C3650-48FQM</th>\n",
       "    </tr>\n",
       "  </thead>\n",
       "  <tbody>\n",
       "    <tr>\n",
       "      <th>1090</th>\n",
       "      <td>113</td>\n",
       "      <td>12</td>\n",
       "      <td>2</td>\n",
       "      <td>2022</td>\n",
       "      <td>2022</td>\n",
       "      <td>5479</td>\n",
       "      <td>6366.0</td>\n",
       "      <td>0</td>\n",
       "      <td>0</td>\n",
       "      <td>0</td>\n",
       "      <td>...</td>\n",
       "      <td>0</td>\n",
       "      <td>1</td>\n",
       "      <td>0</td>\n",
       "      <td>0</td>\n",
       "      <td>0</td>\n",
       "      <td>0</td>\n",
       "      <td>0</td>\n",
       "      <td>0</td>\n",
       "      <td>0</td>\n",
       "      <td>0</td>\n",
       "    </tr>\n",
       "    <tr>\n",
       "      <th>1109</th>\n",
       "      <td>113</td>\n",
       "      <td>5</td>\n",
       "      <td>4</td>\n",
       "      <td>2008</td>\n",
       "      <td>2018</td>\n",
       "      <td>4002</td>\n",
       "      <td>269.0</td>\n",
       "      <td>0</td>\n",
       "      <td>0</td>\n",
       "      <td>0</td>\n",
       "      <td>...</td>\n",
       "      <td>0</td>\n",
       "      <td>1</td>\n",
       "      <td>0</td>\n",
       "      <td>0</td>\n",
       "      <td>0</td>\n",
       "      <td>0</td>\n",
       "      <td>0</td>\n",
       "      <td>0</td>\n",
       "      <td>0</td>\n",
       "      <td>0</td>\n",
       "    </tr>\n",
       "    <tr>\n",
       "      <th>1096</th>\n",
       "      <td>113</td>\n",
       "      <td>4</td>\n",
       "      <td>3</td>\n",
       "      <td>2007</td>\n",
       "      <td>2019</td>\n",
       "      <td>7848</td>\n",
       "      <td>450.0</td>\n",
       "      <td>0</td>\n",
       "      <td>0</td>\n",
       "      <td>0</td>\n",
       "      <td>...</td>\n",
       "      <td>0</td>\n",
       "      <td>1</td>\n",
       "      <td>0</td>\n",
       "      <td>0</td>\n",
       "      <td>0</td>\n",
       "      <td>0</td>\n",
       "      <td>0</td>\n",
       "      <td>0</td>\n",
       "      <td>0</td>\n",
       "      <td>0</td>\n",
       "    </tr>\n",
       "    <tr>\n",
       "      <th>1100</th>\n",
       "      <td>113</td>\n",
       "      <td>2</td>\n",
       "      <td>3</td>\n",
       "      <td>2011</td>\n",
       "      <td>2020</td>\n",
       "      <td>7542</td>\n",
       "      <td>232.0</td>\n",
       "      <td>0</td>\n",
       "      <td>0</td>\n",
       "      <td>0</td>\n",
       "      <td>...</td>\n",
       "      <td>0</td>\n",
       "      <td>1</td>\n",
       "      <td>0</td>\n",
       "      <td>0</td>\n",
       "      <td>0</td>\n",
       "      <td>0</td>\n",
       "      <td>0</td>\n",
       "      <td>0</td>\n",
       "      <td>0</td>\n",
       "      <td>0</td>\n",
       "    </tr>\n",
       "  </tbody>\n",
       "</table>\n",
       "<p>4 rows × 328 columns</p>\n",
       "</div>"
      ],
      "text/plain": [
       "      Business Unit  month  Quarter  QYear  Byear  mean_booked_qty  qty_lag  \\\n",
       "1090            113     12        2   2022   2022             5479   6366.0   \n",
       "1109            113      5        4   2008   2018             4002    269.0   \n",
       "1096            113      4        3   2007   2019             7848    450.0   \n",
       "1100            113      2        3   2011   2020             7542    232.0   \n",
       "\n",
       "      Product Family_4300ISR  Product Family_8000  Product Family_A9K1000  \\\n",
       "1090                       0                    0                       0   \n",
       "1109                       0                    0                       0   \n",
       "1096                       0                    0                       0   \n",
       "1100                       0                    0                       0   \n",
       "\n",
       "      ...  PLID_UCS-S3260-HDW18T  PLID_UCSB-B200-M5  PLID_UCSC-C220-M5SX  \\\n",
       "1090  ...                      0                  1                    0   \n",
       "1109  ...                      0                  1                    0   \n",
       "1096  ...                      0                  1                    0   \n",
       "1100  ...                      0                  1                    0   \n",
       "\n",
       "      PLID_UCSC-C240-M5SX  PLID_UCSC-C240-M6SX  PLID_UCSC-GPU-T4-16  \\\n",
       "1090                    0                    0                    0   \n",
       "1109                    0                    0                    0   \n",
       "1096                    0                    0                    0   \n",
       "1100                    0                    0                    0   \n",
       "\n",
       "      PLID_UCSX-210C-M6  PLID_VEDGE-2000-AC-K9  PLID_WS-C3560CX-12PC-S  \\\n",
       "1090                  0                      0                       0   \n",
       "1109                  0                      0                       0   \n",
       "1096                  0                      0                       0   \n",
       "1100                  0                      0                       0   \n",
       "\n",
       "      PLID_WS-C3650-48FQM  \n",
       "1090                    0  \n",
       "1109                    0  \n",
       "1096                    0  \n",
       "1100                    0  \n",
       "\n",
       "[4 rows x 328 columns]"
      ]
     },
     "execution_count": 176,
     "metadata": {},
     "output_type": "execute_result"
    }
   ],
   "source": [
    "X_test[X_test['PLID_UCSB-B200-M5'] == 1]\n",
    "df = X_train[(X_train['PLID_UCS-S3260-HDW18T'] == 1) & (X_train['Byear'] == 2022)]\n",
    "df_pred = lgbm.predict(df)\n",
    "df_has = [y_train[1784],y_train[1783],y_train[1782],y_train[1781],y_train[1780],y_train[1779]]\n",
    "df = pd.DataFrame(df['month'])\n",
    "df['has'] = df_has\n",
    "df['pred'] = df_pred\n",
    "df.to_csv('data_compare.csv')"
   ]
  },
  {
   "cell_type": "code",
   "execution_count": 249,
   "id": "f635104d",
   "metadata": {},
   "outputs": [],
   "source": [
    "ddata = data.reset_index()"
   ]
  },
  {
   "cell_type": "code",
   "execution_count": 252,
   "id": "07e44c21",
   "metadata": {},
   "outputs": [],
   "source": [
    "ddata = ddata.drop(['index','Unnamed: 0'],axis = 1)"
   ]
  },
  {
   "cell_type": "code",
   "execution_count": 257,
   "id": "e5c1a850",
   "metadata": {},
   "outputs": [],
   "source": [
    "new_data = ddata[((ddata['Quarter'] == 3) | (ddata['Quarter'] == 4)) & (ddata['Byear'] == 2021)]"
   ]
  },
  {
   "cell_type": "code",
   "execution_count": 260,
   "id": "e0133fb6",
   "metadata": {},
   "outputs": [
    {
     "name": "stderr",
     "output_type": "stream",
     "text": [
      "C:\\Users\\ANKITA~1\\AppData\\Local\\Temp/ipykernel_15644/3295378516.py:1: SettingWithCopyWarning: \n",
      "A value is trying to be set on a copy of a slice from a DataFrame.\n",
      "Try using .loc[row_indexer,col_indexer] = value instead\n",
      "\n",
      "See the caveats in the documentation: https://pandas.pydata.org/pandas-docs/stable/user_guide/indexing.html#returning-a-view-versus-a-copy\n",
      "  new_data['Byear'] = 2022\n",
      "C:\\Users\\ANKITA~1\\AppData\\Local\\Temp/ipykernel_15644/3295378516.py:2: SettingWithCopyWarning: \n",
      "A value is trying to be set on a copy of a slice from a DataFrame.\n",
      "Try using .loc[row_indexer,col_indexer] = value instead\n",
      "\n",
      "See the caveats in the documentation: https://pandas.pydata.org/pandas-docs/stable/user_guide/indexing.html#returning-a-view-versus-a-copy\n",
      "  new_data['QYear'] = 2022\n"
     ]
    }
   ],
   "source": [
    "new_data['Byear'] = 2022\n",
    "new_data['QYear'] = 2022"
   ]
  },
  {
   "cell_type": "code",
   "execution_count": 262,
   "id": "09d9ee4a",
   "metadata": {},
   "outputs": [
    {
     "data": {
      "text/html": [
       "<div>\n",
       "<style scoped>\n",
       "    .dataframe tbody tr th:only-of-type {\n",
       "        vertical-align: middle;\n",
       "    }\n",
       "\n",
       "    .dataframe tbody tr th {\n",
       "        vertical-align: top;\n",
       "    }\n",
       "\n",
       "    .dataframe thead th {\n",
       "        text-align: right;\n",
       "    }\n",
       "</style>\n",
       "<table border=\"1\" class=\"dataframe\">\n",
       "  <thead>\n",
       "    <tr style=\"text-align: right;\">\n",
       "      <th></th>\n",
       "      <th>Business Unit</th>\n",
       "      <th>Product Family</th>\n",
       "      <th>PLID</th>\n",
       "      <th>month</th>\n",
       "      <th>Quarter</th>\n",
       "      <th>QYear</th>\n",
       "      <th>Byear</th>\n",
       "      <th>mean_booked_qty</th>\n",
       "      <th>qty_lag</th>\n",
       "    </tr>\n",
       "  </thead>\n",
       "  <tbody>\n",
       "    <tr>\n",
       "      <th>6721</th>\n",
       "      <td>117</td>\n",
       "      <td>8000</td>\n",
       "      <td>8201-SYS</td>\n",
       "      <td>2</td>\n",
       "      <td>3</td>\n",
       "      <td>2022</td>\n",
       "      <td>2022</td>\n",
       "      <td>25</td>\n",
       "      <td>5371.0</td>\n",
       "    </tr>\n",
       "    <tr>\n",
       "      <th>6722</th>\n",
       "      <td>117</td>\n",
       "      <td>8000</td>\n",
       "      <td>8201-SYS</td>\n",
       "      <td>3</td>\n",
       "      <td>3</td>\n",
       "      <td>2022</td>\n",
       "      <td>2022</td>\n",
       "      <td>25</td>\n",
       "      <td>4399.0</td>\n",
       "    </tr>\n",
       "    <tr>\n",
       "      <th>6723</th>\n",
       "      <td>117</td>\n",
       "      <td>8000</td>\n",
       "      <td>8201-SYS</td>\n",
       "      <td>4</td>\n",
       "      <td>3</td>\n",
       "      <td>2022</td>\n",
       "      <td>2022</td>\n",
       "      <td>25</td>\n",
       "      <td>7963.0</td>\n",
       "    </tr>\n",
       "    <tr>\n",
       "      <th>6724</th>\n",
       "      <td>117</td>\n",
       "      <td>8000</td>\n",
       "      <td>8201-SYS</td>\n",
       "      <td>5</td>\n",
       "      <td>4</td>\n",
       "      <td>2022</td>\n",
       "      <td>2022</td>\n",
       "      <td>25</td>\n",
       "      <td>3393.0</td>\n",
       "    </tr>\n",
       "    <tr>\n",
       "      <th>6725</th>\n",
       "      <td>117</td>\n",
       "      <td>8000</td>\n",
       "      <td>8201-SYS</td>\n",
       "      <td>6</td>\n",
       "      <td>4</td>\n",
       "      <td>2022</td>\n",
       "      <td>2022</td>\n",
       "      <td>25</td>\n",
       "      <td>6247.0</td>\n",
       "    </tr>\n",
       "  </tbody>\n",
       "</table>\n",
       "</div>"
      ],
      "text/plain": [
       "      Business Unit Product Family      PLID  month  Quarter  QYear  Byear  \\\n",
       "6721            117           8000  8201-SYS      2        3   2022   2022   \n",
       "6722            117           8000  8201-SYS      3        3   2022   2022   \n",
       "6723            117           8000  8201-SYS      4        3   2022   2022   \n",
       "6724            117           8000  8201-SYS      5        4   2022   2022   \n",
       "6725            117           8000  8201-SYS      6        4   2022   2022   \n",
       "\n",
       "      mean_booked_qty  qty_lag  \n",
       "6721               25   5371.0  \n",
       "6722               25   4399.0  \n",
       "6723               25   7963.0  \n",
       "6724               25   3393.0  \n",
       "6725               25   6247.0  "
      ]
     },
     "execution_count": 262,
     "metadata": {},
     "output_type": "execute_result"
    }
   ],
   "source": [
    "new_data = new_data.drop(['Booked_Qty','Qyear'], axis = 1)\n",
    "new_data.head()"
   ]
  },
  {
   "cell_type": "code",
   "execution_count": 283,
   "id": "02278bc1",
   "metadata": {},
   "outputs": [],
   "source": [
    "a = list(ddata[(ddata['month'] == 1) & (ddata['Byear'] == 2022 )]['PLID'])\n",
    "b = list(ddata[(ddata['month'] == 1) & (ddata['Byear'] == 2022 )]['Booked_Qty'])"
   ]
  },
  {
   "cell_type": "code",
   "execution_count": 284,
   "id": "04033336",
   "metadata": {},
   "outputs": [
    {
     "name": "stderr",
     "output_type": "stream",
     "text": [
      "C:\\Users\\ANKITA~1\\AppData\\Local\\Temp/ipykernel_15644/1626229019.py:2: SettingWithCopyWarning: \n",
      "A value is trying to be set on a copy of a slice from a DataFrame\n",
      "\n",
      "See the caveats in the documentation: https://pandas.pydata.org/pandas-docs/stable/user_guide/indexing.html#returning-a-view-versus-a-copy\n",
      "  new_data['qty_lag'][(new_data['month'] == 2) & (new_data['PLID'] == a[i])] = b[i]\n"
     ]
    }
   ],
   "source": [
    "for i in range (0,len(a)):\n",
    "    new_data['qty_lag'][(new_data['month'] == 2) & (new_data['PLID'] == a[i])] = b[i]"
   ]
  },
  {
   "cell_type": "code",
   "execution_count": 285,
   "id": "bd4c949a",
   "metadata": {},
   "outputs": [
    {
     "data": {
      "text/html": [
       "<div>\n",
       "<style scoped>\n",
       "    .dataframe tbody tr th:only-of-type {\n",
       "        vertical-align: middle;\n",
       "    }\n",
       "\n",
       "    .dataframe tbody tr th {\n",
       "        vertical-align: top;\n",
       "    }\n",
       "\n",
       "    .dataframe thead th {\n",
       "        text-align: right;\n",
       "    }\n",
       "</style>\n",
       "<table border=\"1\" class=\"dataframe\">\n",
       "  <thead>\n",
       "    <tr style=\"text-align: right;\">\n",
       "      <th></th>\n",
       "      <th>Business Unit</th>\n",
       "      <th>Product Family</th>\n",
       "      <th>PLID</th>\n",
       "      <th>month</th>\n",
       "      <th>Quarter</th>\n",
       "      <th>QYear</th>\n",
       "      <th>Byear</th>\n",
       "      <th>mean_booked_qty</th>\n",
       "      <th>qty_lag</th>\n",
       "    </tr>\n",
       "  </thead>\n",
       "  <tbody>\n",
       "    <tr>\n",
       "      <th>6721</th>\n",
       "      <td>117</td>\n",
       "      <td>8000</td>\n",
       "      <td>8201-SYS</td>\n",
       "      <td>2</td>\n",
       "      <td>3</td>\n",
       "      <td>2022</td>\n",
       "      <td>2022</td>\n",
       "      <td>25</td>\n",
       "      <td>505.0</td>\n",
       "    </tr>\n",
       "    <tr>\n",
       "      <th>6738</th>\n",
       "      <td>117</td>\n",
       "      <td>8000</td>\n",
       "      <td>8800-LC-36FH</td>\n",
       "      <td>2</td>\n",
       "      <td>3</td>\n",
       "      <td>2022</td>\n",
       "      <td>2022</td>\n",
       "      <td>24</td>\n",
       "      <td>456.0</td>\n",
       "    </tr>\n",
       "    <tr>\n",
       "      <th>6750</th>\n",
       "      <td>117</td>\n",
       "      <td>8000</td>\n",
       "      <td>8800-LC-48H</td>\n",
       "      <td>2</td>\n",
       "      <td>3</td>\n",
       "      <td>2022</td>\n",
       "      <td>2022</td>\n",
       "      <td>472</td>\n",
       "      <td>428.0</td>\n",
       "    </tr>\n",
       "    <tr>\n",
       "      <th>6762</th>\n",
       "      <td>117</td>\n",
       "      <td>8000</td>\n",
       "      <td>8808-FC</td>\n",
       "      <td>2</td>\n",
       "      <td>3</td>\n",
       "      <td>2022</td>\n",
       "      <td>2022</td>\n",
       "      <td>596</td>\n",
       "      <td>240.0</td>\n",
       "    </tr>\n",
       "    <tr>\n",
       "      <th>6774</th>\n",
       "      <td>117</td>\n",
       "      <td>8000</td>\n",
       "      <td>8808-SYS</td>\n",
       "      <td>2</td>\n",
       "      <td>3</td>\n",
       "      <td>2022</td>\n",
       "      <td>2022</td>\n",
       "      <td>136</td>\n",
       "      <td>141.0</td>\n",
       "    </tr>\n",
       "    <tr>\n",
       "      <th>...</th>\n",
       "      <td>...</td>\n",
       "      <td>...</td>\n",
       "      <td>...</td>\n",
       "      <td>...</td>\n",
       "      <td>...</td>\n",
       "      <td>...</td>\n",
       "      <td>...</td>\n",
       "      <td>...</td>\n",
       "      <td>...</td>\n",
       "    </tr>\n",
       "    <tr>\n",
       "      <th>9437</th>\n",
       "      <td>113</td>\n",
       "      <td>UCSC</td>\n",
       "      <td>UCSC-C240-M5SX</td>\n",
       "      <td>2</td>\n",
       "      <td>3</td>\n",
       "      <td>2022</td>\n",
       "      <td>2022</td>\n",
       "      <td>1026</td>\n",
       "      <td>506.0</td>\n",
       "    </tr>\n",
       "    <tr>\n",
       "      <th>9453</th>\n",
       "      <td>113</td>\n",
       "      <td>UCST</td>\n",
       "      <td>UCSC-GPU-T4-16</td>\n",
       "      <td>2</td>\n",
       "      <td>3</td>\n",
       "      <td>2022</td>\n",
       "      <td>2022</td>\n",
       "      <td>396</td>\n",
       "      <td>332.0</td>\n",
       "    </tr>\n",
       "    <tr>\n",
       "      <th>9470</th>\n",
       "      <td>112</td>\n",
       "      <td>VIPTELA</td>\n",
       "      <td>VEDGE-2000-AC-K9</td>\n",
       "      <td>2</td>\n",
       "      <td>3</td>\n",
       "      <td>2022</td>\n",
       "      <td>2022</td>\n",
       "      <td>256</td>\n",
       "      <td>109.0</td>\n",
       "    </tr>\n",
       "    <tr>\n",
       "      <th>9482</th>\n",
       "      <td>111</td>\n",
       "      <td>C3560CX</td>\n",
       "      <td>WS-C3560CX-12PC-S</td>\n",
       "      <td>2</td>\n",
       "      <td>3</td>\n",
       "      <td>2022</td>\n",
       "      <td>2022</td>\n",
       "      <td>3719</td>\n",
       "      <td>2713.0</td>\n",
       "    </tr>\n",
       "    <tr>\n",
       "      <th>9494</th>\n",
       "      <td>111</td>\n",
       "      <td>C3650</td>\n",
       "      <td>WS-C3650-48FQM</td>\n",
       "      <td>2</td>\n",
       "      <td>3</td>\n",
       "      <td>2022</td>\n",
       "      <td>2022</td>\n",
       "      <td>216</td>\n",
       "      <td>73.0</td>\n",
       "    </tr>\n",
       "  </tbody>\n",
       "</table>\n",
       "<p>233 rows × 9 columns</p>\n",
       "</div>"
      ],
      "text/plain": [
       "      Business Unit Product Family               PLID  month  Quarter  QYear  \\\n",
       "6721            117           8000           8201-SYS      2        3   2022   \n",
       "6738            117           8000       8800-LC-36FH      2        3   2022   \n",
       "6750            117           8000        8800-LC-48H      2        3   2022   \n",
       "6762            117           8000            8808-FC      2        3   2022   \n",
       "6774            117           8000           8808-SYS      2        3   2022   \n",
       "...             ...            ...                ...    ...      ...    ...   \n",
       "9437            113           UCSC     UCSC-C240-M5SX      2        3   2022   \n",
       "9453            113           UCST     UCSC-GPU-T4-16      2        3   2022   \n",
       "9470            112        VIPTELA   VEDGE-2000-AC-K9      2        3   2022   \n",
       "9482            111        C3560CX  WS-C3560CX-12PC-S      2        3   2022   \n",
       "9494            111          C3650     WS-C3650-48FQM      2        3   2022   \n",
       "\n",
       "      Byear  mean_booked_qty  qty_lag  \n",
       "6721   2022               25    505.0  \n",
       "6738   2022               24    456.0  \n",
       "6750   2022              472    428.0  \n",
       "6762   2022              596    240.0  \n",
       "6774   2022              136    141.0  \n",
       "...     ...              ...      ...  \n",
       "9437   2022             1026    506.0  \n",
       "9453   2022              396    332.0  \n",
       "9470   2022              256    109.0  \n",
       "9482   2022             3719   2713.0  \n",
       "9494   2022              216     73.0  \n",
       "\n",
       "[233 rows x 9 columns]"
      ]
     },
     "execution_count": 285,
     "metadata": {},
     "output_type": "execute_result"
    }
   ],
   "source": [
    "new_data[new_data['month'] == 2]"
   ]
  },
  {
   "cell_type": "code",
   "execution_count": 290,
   "id": "832be5ef",
   "metadata": {},
   "outputs": [],
   "source": [
    "x2 = pd.get_dummies(new_data[new_data['month'] == 2], drop_first=True)\n",
    "a = X_test.columns\n",
    "b = x2.columns\n",
    "missing = []\n",
    "for i in a:\n",
    "    if i not in b:\n",
    "        missing.append(i)"
   ]
  },
  {
   "cell_type": "code",
   "execution_count": 291,
   "id": "4d29f3e4",
   "metadata": {},
   "outputs": [],
   "source": [
    "x2[missing] = 0"
   ]
  },
  {
   "cell_type": "code",
   "execution_count": 293,
   "id": "a97982c1",
   "metadata": {},
   "outputs": [],
   "source": [
    "y2 = lgbm.predict(x2)"
   ]
  },
  {
   "cell_type": "code",
   "execution_count": 297,
   "id": "206bc7e0",
   "metadata": {},
   "outputs": [
    {
     "name": "stderr",
     "output_type": "stream",
     "text": [
      "C:\\Users\\ANKITA~1\\AppData\\Local\\Temp/ipykernel_15644/3303001385.py:2: SettingWithCopyWarning: \n",
      "A value is trying to be set on a copy of a slice from a DataFrame\n",
      "\n",
      "See the caveats in the documentation: https://pandas.pydata.org/pandas-docs/stable/user_guide/indexing.html#returning-a-view-versus-a-copy\n",
      "  new_data['pred_value'][new_data['month'] == 2] = y2\n"
     ]
    }
   ],
   "source": [
    "new_data['pred_value'] = None\n",
    "new_data['pred_value'][new_data['month'] == 2] = y2"
   ]
  },
  {
   "cell_type": "code",
   "execution_count": 299,
   "id": "c94b1d5c",
   "metadata": {},
   "outputs": [
    {
     "data": {
      "text/html": [
       "<div>\n",
       "<style scoped>\n",
       "    .dataframe tbody tr th:only-of-type {\n",
       "        vertical-align: middle;\n",
       "    }\n",
       "\n",
       "    .dataframe tbody tr th {\n",
       "        vertical-align: top;\n",
       "    }\n",
       "\n",
       "    .dataframe thead th {\n",
       "        text-align: right;\n",
       "    }\n",
       "</style>\n",
       "<table border=\"1\" class=\"dataframe\">\n",
       "  <thead>\n",
       "    <tr style=\"text-align: right;\">\n",
       "      <th></th>\n",
       "      <th>Business Unit</th>\n",
       "      <th>Product Family</th>\n",
       "      <th>PLID</th>\n",
       "      <th>month</th>\n",
       "      <th>Quarter</th>\n",
       "      <th>QYear</th>\n",
       "      <th>Byear</th>\n",
       "      <th>mean_booked_qty</th>\n",
       "      <th>qty_lag</th>\n",
       "      <th>pred_value</th>\n",
       "    </tr>\n",
       "  </thead>\n",
       "  <tbody>\n",
       "    <tr>\n",
       "      <th>6721</th>\n",
       "      <td>117</td>\n",
       "      <td>8000</td>\n",
       "      <td>8201-SYS</td>\n",
       "      <td>2</td>\n",
       "      <td>3</td>\n",
       "      <td>2022</td>\n",
       "      <td>2022</td>\n",
       "      <td>25</td>\n",
       "      <td>505.0</td>\n",
       "      <td>172.300826</td>\n",
       "    </tr>\n",
       "    <tr>\n",
       "      <th>6738</th>\n",
       "      <td>117</td>\n",
       "      <td>8000</td>\n",
       "      <td>8800-LC-36FH</td>\n",
       "      <td>2</td>\n",
       "      <td>3</td>\n",
       "      <td>2022</td>\n",
       "      <td>2022</td>\n",
       "      <td>24</td>\n",
       "      <td>456.0</td>\n",
       "      <td>292.366495</td>\n",
       "    </tr>\n",
       "    <tr>\n",
       "      <th>6750</th>\n",
       "      <td>117</td>\n",
       "      <td>8000</td>\n",
       "      <td>8800-LC-48H</td>\n",
       "      <td>2</td>\n",
       "      <td>3</td>\n",
       "      <td>2022</td>\n",
       "      <td>2022</td>\n",
       "      <td>472</td>\n",
       "      <td>428.0</td>\n",
       "      <td>570.528357</td>\n",
       "    </tr>\n",
       "    <tr>\n",
       "      <th>6762</th>\n",
       "      <td>117</td>\n",
       "      <td>8000</td>\n",
       "      <td>8808-FC</td>\n",
       "      <td>2</td>\n",
       "      <td>3</td>\n",
       "      <td>2022</td>\n",
       "      <td>2022</td>\n",
       "      <td>596</td>\n",
       "      <td>240.0</td>\n",
       "      <td>678.501057</td>\n",
       "    </tr>\n",
       "    <tr>\n",
       "      <th>6774</th>\n",
       "      <td>117</td>\n",
       "      <td>8000</td>\n",
       "      <td>8808-SYS</td>\n",
       "      <td>2</td>\n",
       "      <td>3</td>\n",
       "      <td>2022</td>\n",
       "      <td>2022</td>\n",
       "      <td>136</td>\n",
       "      <td>141.0</td>\n",
       "      <td>227.524203</td>\n",
       "    </tr>\n",
       "    <tr>\n",
       "      <th>...</th>\n",
       "      <td>...</td>\n",
       "      <td>...</td>\n",
       "      <td>...</td>\n",
       "      <td>...</td>\n",
       "      <td>...</td>\n",
       "      <td>...</td>\n",
       "      <td>...</td>\n",
       "      <td>...</td>\n",
       "      <td>...</td>\n",
       "      <td>...</td>\n",
       "    </tr>\n",
       "    <tr>\n",
       "      <th>9437</th>\n",
       "      <td>113</td>\n",
       "      <td>UCSC</td>\n",
       "      <td>UCSC-C240-M5SX</td>\n",
       "      <td>2</td>\n",
       "      <td>3</td>\n",
       "      <td>2022</td>\n",
       "      <td>2022</td>\n",
       "      <td>1026</td>\n",
       "      <td>506.0</td>\n",
       "      <td>1121.607091</td>\n",
       "    </tr>\n",
       "    <tr>\n",
       "      <th>9453</th>\n",
       "      <td>113</td>\n",
       "      <td>UCST</td>\n",
       "      <td>UCSC-GPU-T4-16</td>\n",
       "      <td>2</td>\n",
       "      <td>3</td>\n",
       "      <td>2022</td>\n",
       "      <td>2022</td>\n",
       "      <td>396</td>\n",
       "      <td>332.0</td>\n",
       "      <td>515.510409</td>\n",
       "    </tr>\n",
       "    <tr>\n",
       "      <th>9470</th>\n",
       "      <td>112</td>\n",
       "      <td>VIPTELA</td>\n",
       "      <td>VEDGE-2000-AC-K9</td>\n",
       "      <td>2</td>\n",
       "      <td>3</td>\n",
       "      <td>2022</td>\n",
       "      <td>2022</td>\n",
       "      <td>256</td>\n",
       "      <td>109.0</td>\n",
       "      <td>346.507358</td>\n",
       "    </tr>\n",
       "    <tr>\n",
       "      <th>9482</th>\n",
       "      <td>111</td>\n",
       "      <td>C3560CX</td>\n",
       "      <td>WS-C3560CX-12PC-S</td>\n",
       "      <td>2</td>\n",
       "      <td>3</td>\n",
       "      <td>2022</td>\n",
       "      <td>2022</td>\n",
       "      <td>3719</td>\n",
       "      <td>2713.0</td>\n",
       "      <td>3982.691887</td>\n",
       "    </tr>\n",
       "    <tr>\n",
       "      <th>9494</th>\n",
       "      <td>111</td>\n",
       "      <td>C3650</td>\n",
       "      <td>WS-C3650-48FQM</td>\n",
       "      <td>2</td>\n",
       "      <td>3</td>\n",
       "      <td>2022</td>\n",
       "      <td>2022</td>\n",
       "      <td>216</td>\n",
       "      <td>73.0</td>\n",
       "      <td>324.529112</td>\n",
       "    </tr>\n",
       "  </tbody>\n",
       "</table>\n",
       "<p>233 rows × 10 columns</p>\n",
       "</div>"
      ],
      "text/plain": [
       "      Business Unit Product Family               PLID  month  Quarter  QYear  \\\n",
       "6721            117           8000           8201-SYS      2        3   2022   \n",
       "6738            117           8000       8800-LC-36FH      2        3   2022   \n",
       "6750            117           8000        8800-LC-48H      2        3   2022   \n",
       "6762            117           8000            8808-FC      2        3   2022   \n",
       "6774            117           8000           8808-SYS      2        3   2022   \n",
       "...             ...            ...                ...    ...      ...    ...   \n",
       "9437            113           UCSC     UCSC-C240-M5SX      2        3   2022   \n",
       "9453            113           UCST     UCSC-GPU-T4-16      2        3   2022   \n",
       "9470            112        VIPTELA   VEDGE-2000-AC-K9      2        3   2022   \n",
       "9482            111        C3560CX  WS-C3560CX-12PC-S      2        3   2022   \n",
       "9494            111          C3650     WS-C3650-48FQM      2        3   2022   \n",
       "\n",
       "      Byear  mean_booked_qty  qty_lag   pred_value  \n",
       "6721   2022               25    505.0   172.300826  \n",
       "6738   2022               24    456.0   292.366495  \n",
       "6750   2022              472    428.0   570.528357  \n",
       "6762   2022              596    240.0   678.501057  \n",
       "6774   2022              136    141.0   227.524203  \n",
       "...     ...              ...      ...          ...  \n",
       "9437   2022             1026    506.0  1121.607091  \n",
       "9453   2022              396    332.0   515.510409  \n",
       "9470   2022              256    109.0   346.507358  \n",
       "9482   2022             3719   2713.0  3982.691887  \n",
       "9494   2022              216     73.0   324.529112  \n",
       "\n",
       "[233 rows x 10 columns]"
      ]
     },
     "execution_count": 299,
     "metadata": {},
     "output_type": "execute_result"
    }
   ],
   "source": [
    "new_data[new_data['month'] == 2]"
   ]
  },
  {
   "cell_type": "markdown",
   "id": "9729b5bb",
   "metadata": {},
   "source": [
    "#### Predict March"
   ]
  },
  {
   "cell_type": "code",
   "execution_count": 304,
   "id": "aaff81fb",
   "metadata": {},
   "outputs": [
    {
     "name": "stderr",
     "output_type": "stream",
     "text": [
      "C:\\Users\\ANKITA~1\\AppData\\Local\\Temp/ipykernel_15644/2123103144.py:4: SettingWithCopyWarning: \n",
      "A value is trying to be set on a copy of a slice from a DataFrame\n",
      "\n",
      "See the caveats in the documentation: https://pandas.pydata.org/pandas-docs/stable/user_guide/indexing.html#returning-a-view-versus-a-copy\n",
      "  new_data['qty_lag'][(new_data['month'] == 3) & (new_data['PLID'] == a[i])] = b[i]\n",
      "C:\\Users\\ANKITA~1\\AppData\\Local\\Temp/ipykernel_15644/2123103144.py:12: PerformanceWarning: DataFrame is highly fragmented.  This is usually the result of calling `frame.insert` many times, which has poor performance.  Consider joining all columns at once using pd.concat(axis=1) instead.  To get a de-fragmented frame, use `newframe = frame.copy()`\n",
      "  df_for_pred[i] = x3[i]\n",
      "C:\\Users\\ANKITA~1\\AppData\\Local\\Temp/ipykernel_15644/2123103144.py:14: PerformanceWarning: DataFrame is highly fragmented.  This is usually the result of calling `frame.insert` many times, which has poor performance.  Consider joining all columns at once using pd.concat(axis=1) instead.  To get a de-fragmented frame, use `newframe = frame.copy()`\n",
      "  df_for_pred[i] = 0\n",
      "C:\\Users\\ANKITA~1\\AppData\\Local\\Temp/ipykernel_15644/2123103144.py:16: SettingWithCopyWarning: \n",
      "A value is trying to be set on a copy of a slice from a DataFrame\n",
      "\n",
      "See the caveats in the documentation: https://pandas.pydata.org/pandas-docs/stable/user_guide/indexing.html#returning-a-view-versus-a-copy\n",
      "  new_data['pred_value'][new_data['month'] == 3] = y3\n"
     ]
    }
   ],
   "source": [
    "a = list(new_data[(new_data['month'] == 3) & (new_data['Byear'] == 2022 )]['PLID'])\n",
    "b = list(new_data[(new_data['month'] == 3) & (new_data['Byear'] == 2022 )]['pred_value'])\n",
    "for i in range (0,len(a)):\n",
    "    new_data['qty_lag'][(new_data['month'] == 3) & (new_data['PLID'] == a[i])] = b[i]\n",
    "fake_data = new_data.drop(['pred_value'],axis = 1)\n",
    "x3 = pd.get_dummies(new_data[fake_data['month'] == 3], drop_first=True)\n",
    "a = X_test.columns\n",
    "b = x3.columns\n",
    "df_for_pred = pd.DataFrame()\n",
    "for i in a:\n",
    "    if i in b:\n",
    "        df_for_pred[i] = x3[i]\n",
    "    else:\n",
    "        df_for_pred[i] = 0\n",
    "y3 = lgbm.predict(df_for_pred)\n",
    "new_data['pred_value'][new_data['month'] == 3] = y3"
   ]
  },
  {
   "cell_type": "markdown",
   "id": "ea03a7e3",
   "metadata": {},
   "source": [
    "#### function to predict the remaining months"
   ]
  },
  {
   "cell_type": "code",
   "execution_count": 305,
   "id": "b6197d3e",
   "metadata": {},
   "outputs": [],
   "source": [
    "def pred(month):\n",
    "    a = list(new_data[(new_data['month'] == month) & (new_data['Byear'] == 2022 )]['PLID'])\n",
    "    b = list(new_data[(new_data['month'] == month) & (new_data['Byear'] == 2022 )]['pred_value'])\n",
    "    for i in range (0,len(a)):\n",
    "        new_data['qty_lag'][(new_data['month'] == month) & (new_data['PLID'] == a[i])] = b[i]\n",
    "    fake_data = new_data.drop(['pred_value'],axis = 1)\n",
    "    xn = pd.get_dummies(new_data[fake_data['month'] == month], drop_first=True)\n",
    "    a = X_test.columns\n",
    "    b = xn.columns\n",
    "    df_for_pred = pd.DataFrame()\n",
    "    for i in a:\n",
    "        if i in b:\n",
    "            df_for_pred[i] = xn[i]\n",
    "        else:\n",
    "            df_for_pred[i] = 0\n",
    "    yn = lgbm.predict(df_for_pred)\n",
    "    new_data['pred_value'][new_data['month'] == month] = yn"
   ]
  },
  {
   "cell_type": "code",
   "execution_count": 323,
   "id": "53a5fbff",
   "metadata": {},
   "outputs": [
    {
     "name": "stderr",
     "output_type": "stream",
     "text": [
      "C:\\Users\\ANKITA~1\\AppData\\Local\\Temp/ipykernel_15644/3967256691.py:5: SettingWithCopyWarning: \n",
      "A value is trying to be set on a copy of a slice from a DataFrame\n",
      "\n",
      "See the caveats in the documentation: https://pandas.pydata.org/pandas-docs/stable/user_guide/indexing.html#returning-a-view-versus-a-copy\n",
      "  new_data['qty_lag'][(new_data['month'] == month) & (new_data['PLID'] == a[i])] = b[i]\n",
      "C:\\Users\\ANKITA~1\\AppData\\Local\\Temp/ipykernel_15644/3967256691.py:13: PerformanceWarning: DataFrame is highly fragmented.  This is usually the result of calling `frame.insert` many times, which has poor performance.  Consider joining all columns at once using pd.concat(axis=1) instead.  To get a de-fragmented frame, use `newframe = frame.copy()`\n",
      "  df_for_pred[i] = xn[i]\n",
      "C:\\Users\\ANKITA~1\\AppData\\Local\\Temp/ipykernel_15644/3967256691.py:15: PerformanceWarning: DataFrame is highly fragmented.  This is usually the result of calling `frame.insert` many times, which has poor performance.  Consider joining all columns at once using pd.concat(axis=1) instead.  To get a de-fragmented frame, use `newframe = frame.copy()`\n",
      "  df_for_pred[i] = 0\n",
      "C:\\Users\\ANKITA~1\\AppData\\Local\\Temp/ipykernel_15644/3967256691.py:17: SettingWithCopyWarning: \n",
      "A value is trying to be set on a copy of a slice from a DataFrame\n",
      "\n",
      "See the caveats in the documentation: https://pandas.pydata.org/pandas-docs/stable/user_guide/indexing.html#returning-a-view-versus-a-copy\n",
      "  new_data['pred_value'][new_data['month'] == month] = yn\n"
     ]
    }
   ],
   "source": [
    "for i in range(4,8):\n",
    "    pred(i)"
   ]
  },
  {
   "cell_type": "code",
   "execution_count": 331,
   "id": "79a851bd",
   "metadata": {},
   "outputs": [],
   "source": [
    "conditions = [(new_data['pred_value'] < 65000),\n",
    "              ((new_data['pred_value']>= 65000) & (new_data['pred_value'] < 130000)),\n",
    "             ((new_data['pred_value'] >= 130000) & (new_data['pred_value'] < 195000)),\n",
    "             ((new_data['pred_value'] >= 195000) & (new_data['pred_value'] < 260000)),\n",
    "             (new_data['pred_value'] >= 260000)]\n",
    "values = ['XS','S','M','L','XL']\n",
    "new_data['inventory'] = None\n",
    "new_data['inventory'] = np.select(conditions,values)"
   ]
  },
  {
   "cell_type": "code",
   "execution_count": 333,
   "id": "ef9e0b24",
   "metadata": {},
   "outputs": [],
   "source": [
    "new_data.to_csv('Output.csv')"
   ]
  },
  {
   "cell_type": "code",
   "execution_count": 334,
   "id": "b655abe7",
   "metadata": {},
   "outputs": [
    {
     "data": {
      "text/html": [
       "<div>\n",
       "<style scoped>\n",
       "    .dataframe tbody tr th:only-of-type {\n",
       "        vertical-align: middle;\n",
       "    }\n",
       "\n",
       "    .dataframe tbody tr th {\n",
       "        vertical-align: top;\n",
       "    }\n",
       "\n",
       "    .dataframe thead th {\n",
       "        text-align: right;\n",
       "    }\n",
       "</style>\n",
       "<table border=\"1\" class=\"dataframe\">\n",
       "  <thead>\n",
       "    <tr style=\"text-align: right;\">\n",
       "      <th></th>\n",
       "      <th>Business Unit</th>\n",
       "      <th>Product Family</th>\n",
       "      <th>PLID</th>\n",
       "      <th>month</th>\n",
       "      <th>Quarter</th>\n",
       "      <th>QYear</th>\n",
       "      <th>Byear</th>\n",
       "      <th>mean_booked_qty</th>\n",
       "      <th>qty_lag</th>\n",
       "      <th>pred_value</th>\n",
       "      <th>inventory</th>\n",
       "    </tr>\n",
       "  </thead>\n",
       "  <tbody>\n",
       "    <tr>\n",
       "      <th>6721</th>\n",
       "      <td>117</td>\n",
       "      <td>8000</td>\n",
       "      <td>8201-SYS</td>\n",
       "      <td>2</td>\n",
       "      <td>3</td>\n",
       "      <td>2022</td>\n",
       "      <td>2022</td>\n",
       "      <td>25</td>\n",
       "      <td>505.000000</td>\n",
       "      <td>172.300826</td>\n",
       "      <td>XS</td>\n",
       "    </tr>\n",
       "    <tr>\n",
       "      <th>6722</th>\n",
       "      <td>117</td>\n",
       "      <td>8000</td>\n",
       "      <td>8201-SYS</td>\n",
       "      <td>3</td>\n",
       "      <td>3</td>\n",
       "      <td>2022</td>\n",
       "      <td>2022</td>\n",
       "      <td>25</td>\n",
       "      <td>156.449034</td>\n",
       "      <td>156.449034</td>\n",
       "      <td>XS</td>\n",
       "    </tr>\n",
       "    <tr>\n",
       "      <th>6723</th>\n",
       "      <td>117</td>\n",
       "      <td>8000</td>\n",
       "      <td>8201-SYS</td>\n",
       "      <td>4</td>\n",
       "      <td>3</td>\n",
       "      <td>2022</td>\n",
       "      <td>2022</td>\n",
       "      <td>25</td>\n",
       "      <td>177.470919</td>\n",
       "      <td>177.470919</td>\n",
       "      <td>XS</td>\n",
       "    </tr>\n",
       "    <tr>\n",
       "      <th>6724</th>\n",
       "      <td>117</td>\n",
       "      <td>8000</td>\n",
       "      <td>8201-SYS</td>\n",
       "      <td>5</td>\n",
       "      <td>4</td>\n",
       "      <td>2022</td>\n",
       "      <td>2022</td>\n",
       "      <td>25</td>\n",
       "      <td>4.230327</td>\n",
       "      <td>10.551568</td>\n",
       "      <td>XS</td>\n",
       "    </tr>\n",
       "    <tr>\n",
       "      <th>6725</th>\n",
       "      <td>117</td>\n",
       "      <td>8000</td>\n",
       "      <td>8201-SYS</td>\n",
       "      <td>6</td>\n",
       "      <td>4</td>\n",
       "      <td>2022</td>\n",
       "      <td>2022</td>\n",
       "      <td>25</td>\n",
       "      <td>102.490155</td>\n",
       "      <td>130.060204</td>\n",
       "      <td>XS</td>\n",
       "    </tr>\n",
       "    <tr>\n",
       "      <th>...</th>\n",
       "      <td>...</td>\n",
       "      <td>...</td>\n",
       "      <td>...</td>\n",
       "      <td>...</td>\n",
       "      <td>...</td>\n",
       "      <td>...</td>\n",
       "      <td>...</td>\n",
       "      <td>...</td>\n",
       "      <td>...</td>\n",
       "      <td>...</td>\n",
       "      <td>...</td>\n",
       "    </tr>\n",
       "    <tr>\n",
       "      <th>9495</th>\n",
       "      <td>111</td>\n",
       "      <td>C3650</td>\n",
       "      <td>WS-C3650-48FQM</td>\n",
       "      <td>3</td>\n",
       "      <td>3</td>\n",
       "      <td>2022</td>\n",
       "      <td>2022</td>\n",
       "      <td>216</td>\n",
       "      <td>823.760328</td>\n",
       "      <td>313.540732</td>\n",
       "      <td>XS</td>\n",
       "    </tr>\n",
       "    <tr>\n",
       "      <th>9496</th>\n",
       "      <td>111</td>\n",
       "      <td>C3650</td>\n",
       "      <td>WS-C3650-48FQM</td>\n",
       "      <td>4</td>\n",
       "      <td>3</td>\n",
       "      <td>2022</td>\n",
       "      <td>2022</td>\n",
       "      <td>216</td>\n",
       "      <td>420.920947</td>\n",
       "      <td>420.920947</td>\n",
       "      <td>XS</td>\n",
       "    </tr>\n",
       "    <tr>\n",
       "      <th>9497</th>\n",
       "      <td>111</td>\n",
       "      <td>C3650</td>\n",
       "      <td>WS-C3650-48FQM</td>\n",
       "      <td>5</td>\n",
       "      <td>4</td>\n",
       "      <td>2022</td>\n",
       "      <td>2022</td>\n",
       "      <td>216</td>\n",
       "      <td>158.998640</td>\n",
       "      <td>180.930018</td>\n",
       "      <td>XS</td>\n",
       "    </tr>\n",
       "    <tr>\n",
       "      <th>9498</th>\n",
       "      <td>111</td>\n",
       "      <td>C3650</td>\n",
       "      <td>WS-C3650-48FQM</td>\n",
       "      <td>6</td>\n",
       "      <td>4</td>\n",
       "      <td>2022</td>\n",
       "      <td>2022</td>\n",
       "      <td>216</td>\n",
       "      <td>280.837899</td>\n",
       "      <td>302.769277</td>\n",
       "      <td>XS</td>\n",
       "    </tr>\n",
       "    <tr>\n",
       "      <th>9499</th>\n",
       "      <td>111</td>\n",
       "      <td>C3650</td>\n",
       "      <td>WS-C3650-48FQM</td>\n",
       "      <td>7</td>\n",
       "      <td>4</td>\n",
       "      <td>2022</td>\n",
       "      <td>2022</td>\n",
       "      <td>216</td>\n",
       "      <td>NaN</td>\n",
       "      <td>1057.571756</td>\n",
       "      <td>XS</td>\n",
       "    </tr>\n",
       "  </tbody>\n",
       "</table>\n",
       "<p>1457 rows × 11 columns</p>\n",
       "</div>"
      ],
      "text/plain": [
       "      Business Unit Product Family            PLID  month  Quarter  QYear  \\\n",
       "6721            117           8000        8201-SYS      2        3   2022   \n",
       "6722            117           8000        8201-SYS      3        3   2022   \n",
       "6723            117           8000        8201-SYS      4        3   2022   \n",
       "6724            117           8000        8201-SYS      5        4   2022   \n",
       "6725            117           8000        8201-SYS      6        4   2022   \n",
       "...             ...            ...             ...    ...      ...    ...   \n",
       "9495            111          C3650  WS-C3650-48FQM      3        3   2022   \n",
       "9496            111          C3650  WS-C3650-48FQM      4        3   2022   \n",
       "9497            111          C3650  WS-C3650-48FQM      5        4   2022   \n",
       "9498            111          C3650  WS-C3650-48FQM      6        4   2022   \n",
       "9499            111          C3650  WS-C3650-48FQM      7        4   2022   \n",
       "\n",
       "      Byear  mean_booked_qty     qty_lag   pred_value inventory  \n",
       "6721   2022               25  505.000000   172.300826        XS  \n",
       "6722   2022               25  156.449034   156.449034        XS  \n",
       "6723   2022               25  177.470919   177.470919        XS  \n",
       "6724   2022               25    4.230327    10.551568        XS  \n",
       "6725   2022               25  102.490155   130.060204        XS  \n",
       "...     ...              ...         ...          ...       ...  \n",
       "9495   2022              216  823.760328   313.540732        XS  \n",
       "9496   2022              216  420.920947   420.920947        XS  \n",
       "9497   2022              216  158.998640   180.930018        XS  \n",
       "9498   2022              216  280.837899   302.769277        XS  \n",
       "9499   2022              216         NaN  1057.571756        XS  \n",
       "\n",
       "[1457 rows x 11 columns]"
      ]
     },
     "execution_count": 334,
     "metadata": {},
     "output_type": "execute_result"
    }
   ],
   "source": [
    "new_data"
   ]
  },
  {
   "cell_type": "code",
   "execution_count": null,
   "id": "eb3e6520",
   "metadata": {},
   "outputs": [],
   "source": []
  }
 ],
 "metadata": {
  "kernelspec": {
   "display_name": "Python 3 (ipykernel)",
   "language": "python",
   "name": "python3"
  },
  "language_info": {
   "codemirror_mode": {
    "name": "ipython",
    "version": 3
   },
   "file_extension": ".py",
   "mimetype": "text/x-python",
   "name": "python",
   "nbconvert_exporter": "python",
   "pygments_lexer": "ipython3",
   "version": "3.9.7"
  }
 },
 "nbformat": 4,
 "nbformat_minor": 5
}
